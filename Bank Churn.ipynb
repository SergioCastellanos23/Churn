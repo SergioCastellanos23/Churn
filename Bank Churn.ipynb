{
 "cells": [
  {
   "cell_type": "code",
   "execution_count": 1,
   "id": "a6d397a1",
   "metadata": {},
   "outputs": [
    {
     "name": "stdout",
     "output_type": "stream",
     "text": [
      "(CVXPY) Jun 19 06:09:20 PM: Encountered unexpected exception importing solver CVXOPT:\n",
      "ImportError('DLL load failed while importing base: No se puede encontrar el módulo especificado.')\n",
      "(CVXPY) Jun 19 06:09:20 PM: Encountered unexpected exception importing solver GLPK:\n",
      "ImportError('DLL load failed while importing base: No se puede encontrar el módulo especificado.')\n",
      "(CVXPY) Jun 19 06:09:20 PM: Encountered unexpected exception importing solver GLPK_MI:\n",
      "ImportError('DLL load failed while importing base: No se puede encontrar el módulo especificado.')\n"
     ]
    }
   ],
   "source": [
    "import pandas as pd\n",
    "import numpy as np\n",
    "import seaborn as sns\n",
    "import matplotlib.pyplot as plt\n",
    "from matplotlib import pyplot\n",
    "import limpieza\n",
    "import outliers\n",
    "import analisis_bi_multi\n",
    "import var_selection\n",
    "from scipy import stats\n",
    "import statsmodels.api as sm\n",
    "from sklearn.preprocessing import RobustScaler,StandardScaler,MinMaxScaler\n",
    "from scipy.stats import uniform, randint\n",
    "import warnings\n",
    "\n",
    "warnings.simplefilter(action='ignore', category=FutureWarning)"
   ]
  },
  {
   "cell_type": "code",
   "execution_count": 2,
   "id": "757419d6",
   "metadata": {},
   "outputs": [],
   "source": [
    "file_path_train = r'D:\\Documentos\\projects\\train_bank.csv'\n",
    "file_path_test = r'D:\\Documentos\\projects\\test_bank.csv'\n",
    "\n",
    "\n",
    "df_train = pd.read_csv(file_path_train)\n",
    "df_test = pd.read_csv(file_path_test)"
   ]
  },
  {
   "cell_type": "code",
   "execution_count": 3,
   "id": "47b9877b",
   "metadata": {},
   "outputs": [
    {
     "data": {
      "text/html": [
       "<div>\n",
       "<style scoped>\n",
       "    .dataframe tbody tr th:only-of-type {\n",
       "        vertical-align: middle;\n",
       "    }\n",
       "\n",
       "    .dataframe tbody tr th {\n",
       "        vertical-align: top;\n",
       "    }\n",
       "\n",
       "    .dataframe thead th {\n",
       "        text-align: right;\n",
       "    }\n",
       "</style>\n",
       "<table border=\"1\" class=\"dataframe\">\n",
       "  <thead>\n",
       "    <tr style=\"text-align: right;\">\n",
       "      <th></th>\n",
       "      <th>id</th>\n",
       "      <th>CustomerId</th>\n",
       "      <th>Surname</th>\n",
       "      <th>CreditScore</th>\n",
       "      <th>Geography</th>\n",
       "      <th>Gender</th>\n",
       "      <th>Age</th>\n",
       "      <th>Tenure</th>\n",
       "      <th>Balance</th>\n",
       "      <th>NumOfProducts</th>\n",
       "      <th>HasCrCard</th>\n",
       "      <th>IsActiveMember</th>\n",
       "      <th>EstimatedSalary</th>\n",
       "      <th>Exited</th>\n",
       "    </tr>\n",
       "  </thead>\n",
       "  <tbody>\n",
       "    <tr>\n",
       "      <th>0</th>\n",
       "      <td>0</td>\n",
       "      <td>15674932</td>\n",
       "      <td>Okwudilichukwu</td>\n",
       "      <td>668</td>\n",
       "      <td>France</td>\n",
       "      <td>Male</td>\n",
       "      <td>33.0</td>\n",
       "      <td>3</td>\n",
       "      <td>0.00</td>\n",
       "      <td>2</td>\n",
       "      <td>1</td>\n",
       "      <td>0</td>\n",
       "      <td>181449.97</td>\n",
       "      <td>0</td>\n",
       "    </tr>\n",
       "    <tr>\n",
       "      <th>1</th>\n",
       "      <td>1</td>\n",
       "      <td>15749177</td>\n",
       "      <td>Okwudiliolisa</td>\n",
       "      <td>627</td>\n",
       "      <td>France</td>\n",
       "      <td>Male</td>\n",
       "      <td>33.0</td>\n",
       "      <td>1</td>\n",
       "      <td>0.00</td>\n",
       "      <td>2</td>\n",
       "      <td>1</td>\n",
       "      <td>1</td>\n",
       "      <td>49503.50</td>\n",
       "      <td>0</td>\n",
       "    </tr>\n",
       "    <tr>\n",
       "      <th>2</th>\n",
       "      <td>2</td>\n",
       "      <td>15694510</td>\n",
       "      <td>Hsueh</td>\n",
       "      <td>678</td>\n",
       "      <td>France</td>\n",
       "      <td>Male</td>\n",
       "      <td>40.0</td>\n",
       "      <td>10</td>\n",
       "      <td>0.00</td>\n",
       "      <td>2</td>\n",
       "      <td>1</td>\n",
       "      <td>0</td>\n",
       "      <td>184866.69</td>\n",
       "      <td>0</td>\n",
       "    </tr>\n",
       "    <tr>\n",
       "      <th>3</th>\n",
       "      <td>3</td>\n",
       "      <td>15741417</td>\n",
       "      <td>Kao</td>\n",
       "      <td>581</td>\n",
       "      <td>France</td>\n",
       "      <td>Male</td>\n",
       "      <td>34.0</td>\n",
       "      <td>2</td>\n",
       "      <td>148882.54</td>\n",
       "      <td>1</td>\n",
       "      <td>1</td>\n",
       "      <td>1</td>\n",
       "      <td>84560.88</td>\n",
       "      <td>0</td>\n",
       "    </tr>\n",
       "    <tr>\n",
       "      <th>4</th>\n",
       "      <td>4</td>\n",
       "      <td>15766172</td>\n",
       "      <td>Chiemenam</td>\n",
       "      <td>716</td>\n",
       "      <td>Spain</td>\n",
       "      <td>Male</td>\n",
       "      <td>33.0</td>\n",
       "      <td>5</td>\n",
       "      <td>0.00</td>\n",
       "      <td>2</td>\n",
       "      <td>1</td>\n",
       "      <td>1</td>\n",
       "      <td>15068.83</td>\n",
       "      <td>0</td>\n",
       "    </tr>\n",
       "    <tr>\n",
       "      <th>...</th>\n",
       "      <td>...</td>\n",
       "      <td>...</td>\n",
       "      <td>...</td>\n",
       "      <td>...</td>\n",
       "      <td>...</td>\n",
       "      <td>...</td>\n",
       "      <td>...</td>\n",
       "      <td>...</td>\n",
       "      <td>...</td>\n",
       "      <td>...</td>\n",
       "      <td>...</td>\n",
       "      <td>...</td>\n",
       "      <td>...</td>\n",
       "      <td>...</td>\n",
       "    </tr>\n",
       "    <tr>\n",
       "      <th>165029</th>\n",
       "      <td>165029</td>\n",
       "      <td>15667085</td>\n",
       "      <td>Meng</td>\n",
       "      <td>667</td>\n",
       "      <td>Spain</td>\n",
       "      <td>Female</td>\n",
       "      <td>33.0</td>\n",
       "      <td>2</td>\n",
       "      <td>0.00</td>\n",
       "      <td>1</td>\n",
       "      <td>1</td>\n",
       "      <td>1</td>\n",
       "      <td>131834.75</td>\n",
       "      <td>0</td>\n",
       "    </tr>\n",
       "    <tr>\n",
       "      <th>165030</th>\n",
       "      <td>165030</td>\n",
       "      <td>15665521</td>\n",
       "      <td>Okechukwu</td>\n",
       "      <td>792</td>\n",
       "      <td>France</td>\n",
       "      <td>Male</td>\n",
       "      <td>35.0</td>\n",
       "      <td>3</td>\n",
       "      <td>0.00</td>\n",
       "      <td>1</td>\n",
       "      <td>0</td>\n",
       "      <td>0</td>\n",
       "      <td>131834.45</td>\n",
       "      <td>0</td>\n",
       "    </tr>\n",
       "    <tr>\n",
       "      <th>165031</th>\n",
       "      <td>165031</td>\n",
       "      <td>15664752</td>\n",
       "      <td>Hsia</td>\n",
       "      <td>565</td>\n",
       "      <td>France</td>\n",
       "      <td>Male</td>\n",
       "      <td>31.0</td>\n",
       "      <td>5</td>\n",
       "      <td>0.00</td>\n",
       "      <td>1</td>\n",
       "      <td>1</td>\n",
       "      <td>1</td>\n",
       "      <td>127429.56</td>\n",
       "      <td>0</td>\n",
       "    </tr>\n",
       "    <tr>\n",
       "      <th>165032</th>\n",
       "      <td>165032</td>\n",
       "      <td>15689614</td>\n",
       "      <td>Hsiung</td>\n",
       "      <td>554</td>\n",
       "      <td>Spain</td>\n",
       "      <td>Female</td>\n",
       "      <td>30.0</td>\n",
       "      <td>7</td>\n",
       "      <td>161533.00</td>\n",
       "      <td>1</td>\n",
       "      <td>0</td>\n",
       "      <td>1</td>\n",
       "      <td>71173.03</td>\n",
       "      <td>0</td>\n",
       "    </tr>\n",
       "    <tr>\n",
       "      <th>165033</th>\n",
       "      <td>165033</td>\n",
       "      <td>15732798</td>\n",
       "      <td>Ulyanov</td>\n",
       "      <td>850</td>\n",
       "      <td>France</td>\n",
       "      <td>Male</td>\n",
       "      <td>31.0</td>\n",
       "      <td>1</td>\n",
       "      <td>0.00</td>\n",
       "      <td>1</td>\n",
       "      <td>1</td>\n",
       "      <td>0</td>\n",
       "      <td>61581.79</td>\n",
       "      <td>1</td>\n",
       "    </tr>\n",
       "  </tbody>\n",
       "</table>\n",
       "<p>165034 rows × 14 columns</p>\n",
       "</div>"
      ],
      "text/plain": [
       "            id  CustomerId         Surname  CreditScore Geography  Gender  \\\n",
       "0            0    15674932  Okwudilichukwu          668    France    Male   \n",
       "1            1    15749177   Okwudiliolisa          627    France    Male   \n",
       "2            2    15694510           Hsueh          678    France    Male   \n",
       "3            3    15741417             Kao          581    France    Male   \n",
       "4            4    15766172       Chiemenam          716     Spain    Male   \n",
       "...        ...         ...             ...          ...       ...     ...   \n",
       "165029  165029    15667085            Meng          667     Spain  Female   \n",
       "165030  165030    15665521       Okechukwu          792    France    Male   \n",
       "165031  165031    15664752            Hsia          565    France    Male   \n",
       "165032  165032    15689614          Hsiung          554     Spain  Female   \n",
       "165033  165033    15732798         Ulyanov          850    France    Male   \n",
       "\n",
       "         Age  Tenure    Balance  NumOfProducts  HasCrCard  IsActiveMember  \\\n",
       "0       33.0       3       0.00              2          1               0   \n",
       "1       33.0       1       0.00              2          1               1   \n",
       "2       40.0      10       0.00              2          1               0   \n",
       "3       34.0       2  148882.54              1          1               1   \n",
       "4       33.0       5       0.00              2          1               1   \n",
       "...      ...     ...        ...            ...        ...             ...   \n",
       "165029  33.0       2       0.00              1          1               1   \n",
       "165030  35.0       3       0.00              1          0               0   \n",
       "165031  31.0       5       0.00              1          1               1   \n",
       "165032  30.0       7  161533.00              1          0               1   \n",
       "165033  31.0       1       0.00              1          1               0   \n",
       "\n",
       "        EstimatedSalary  Exited  \n",
       "0             181449.97       0  \n",
       "1              49503.50       0  \n",
       "2             184866.69       0  \n",
       "3              84560.88       0  \n",
       "4              15068.83       0  \n",
       "...                 ...     ...  \n",
       "165029        131834.75       0  \n",
       "165030        131834.45       0  \n",
       "165031        127429.56       0  \n",
       "165032         71173.03       0  \n",
       "165033         61581.79       1  \n",
       "\n",
       "[165034 rows x 14 columns]"
      ]
     },
     "execution_count": 3,
     "metadata": {},
     "output_type": "execute_result"
    }
   ],
   "source": [
    "df_train"
   ]
  },
  {
   "cell_type": "code",
   "execution_count": 4,
   "id": "dbf3d29b",
   "metadata": {},
   "outputs": [
    {
     "data": {
      "text/html": [
       "<div>\n",
       "<style scoped>\n",
       "    .dataframe tbody tr th:only-of-type {\n",
       "        vertical-align: middle;\n",
       "    }\n",
       "\n",
       "    .dataframe tbody tr th {\n",
       "        vertical-align: top;\n",
       "    }\n",
       "\n",
       "    .dataframe thead th {\n",
       "        text-align: right;\n",
       "    }\n",
       "</style>\n",
       "<table border=\"1\" class=\"dataframe\">\n",
       "  <thead>\n",
       "    <tr style=\"text-align: right;\">\n",
       "      <th></th>\n",
       "      <th>id</th>\n",
       "      <th>CustomerId</th>\n",
       "      <th>Surname</th>\n",
       "      <th>CreditScore</th>\n",
       "      <th>Geography</th>\n",
       "      <th>Gender</th>\n",
       "      <th>Age</th>\n",
       "      <th>Tenure</th>\n",
       "      <th>Balance</th>\n",
       "      <th>NumOfProducts</th>\n",
       "      <th>HasCrCard</th>\n",
       "      <th>IsActiveMember</th>\n",
       "      <th>EstimatedSalary</th>\n",
       "    </tr>\n",
       "  </thead>\n",
       "  <tbody>\n",
       "    <tr>\n",
       "      <th>0</th>\n",
       "      <td>165034</td>\n",
       "      <td>15773898</td>\n",
       "      <td>Lucchese</td>\n",
       "      <td>586</td>\n",
       "      <td>France</td>\n",
       "      <td>Female</td>\n",
       "      <td>23.0</td>\n",
       "      <td>2</td>\n",
       "      <td>0.00</td>\n",
       "      <td>2</td>\n",
       "      <td>0.0</td>\n",
       "      <td>1.0</td>\n",
       "      <td>160976.75</td>\n",
       "    </tr>\n",
       "    <tr>\n",
       "      <th>1</th>\n",
       "      <td>165035</td>\n",
       "      <td>15782418</td>\n",
       "      <td>Nott</td>\n",
       "      <td>683</td>\n",
       "      <td>France</td>\n",
       "      <td>Female</td>\n",
       "      <td>46.0</td>\n",
       "      <td>2</td>\n",
       "      <td>0.00</td>\n",
       "      <td>1</td>\n",
       "      <td>1.0</td>\n",
       "      <td>0.0</td>\n",
       "      <td>72549.27</td>\n",
       "    </tr>\n",
       "    <tr>\n",
       "      <th>2</th>\n",
       "      <td>165036</td>\n",
       "      <td>15807120</td>\n",
       "      <td>K?</td>\n",
       "      <td>656</td>\n",
       "      <td>France</td>\n",
       "      <td>Female</td>\n",
       "      <td>34.0</td>\n",
       "      <td>7</td>\n",
       "      <td>0.00</td>\n",
       "      <td>2</td>\n",
       "      <td>1.0</td>\n",
       "      <td>0.0</td>\n",
       "      <td>138882.09</td>\n",
       "    </tr>\n",
       "    <tr>\n",
       "      <th>3</th>\n",
       "      <td>165037</td>\n",
       "      <td>15808905</td>\n",
       "      <td>O'Donnell</td>\n",
       "      <td>681</td>\n",
       "      <td>France</td>\n",
       "      <td>Male</td>\n",
       "      <td>36.0</td>\n",
       "      <td>8</td>\n",
       "      <td>0.00</td>\n",
       "      <td>1</td>\n",
       "      <td>1.0</td>\n",
       "      <td>0.0</td>\n",
       "      <td>113931.57</td>\n",
       "    </tr>\n",
       "    <tr>\n",
       "      <th>4</th>\n",
       "      <td>165038</td>\n",
       "      <td>15607314</td>\n",
       "      <td>Higgins</td>\n",
       "      <td>752</td>\n",
       "      <td>Germany</td>\n",
       "      <td>Male</td>\n",
       "      <td>38.0</td>\n",
       "      <td>10</td>\n",
       "      <td>121263.62</td>\n",
       "      <td>1</td>\n",
       "      <td>1.0</td>\n",
       "      <td>0.0</td>\n",
       "      <td>139431.00</td>\n",
       "    </tr>\n",
       "    <tr>\n",
       "      <th>...</th>\n",
       "      <td>...</td>\n",
       "      <td>...</td>\n",
       "      <td>...</td>\n",
       "      <td>...</td>\n",
       "      <td>...</td>\n",
       "      <td>...</td>\n",
       "      <td>...</td>\n",
       "      <td>...</td>\n",
       "      <td>...</td>\n",
       "      <td>...</td>\n",
       "      <td>...</td>\n",
       "      <td>...</td>\n",
       "      <td>...</td>\n",
       "    </tr>\n",
       "    <tr>\n",
       "      <th>110018</th>\n",
       "      <td>275052</td>\n",
       "      <td>15662091</td>\n",
       "      <td>P'eng</td>\n",
       "      <td>570</td>\n",
       "      <td>Spain</td>\n",
       "      <td>Male</td>\n",
       "      <td>29.0</td>\n",
       "      <td>7</td>\n",
       "      <td>116099.82</td>\n",
       "      <td>1</td>\n",
       "      <td>1.0</td>\n",
       "      <td>1.0</td>\n",
       "      <td>148087.62</td>\n",
       "    </tr>\n",
       "    <tr>\n",
       "      <th>110019</th>\n",
       "      <td>275053</td>\n",
       "      <td>15774133</td>\n",
       "      <td>Cox</td>\n",
       "      <td>575</td>\n",
       "      <td>France</td>\n",
       "      <td>Female</td>\n",
       "      <td>36.0</td>\n",
       "      <td>4</td>\n",
       "      <td>178032.53</td>\n",
       "      <td>1</td>\n",
       "      <td>1.0</td>\n",
       "      <td>1.0</td>\n",
       "      <td>42181.68</td>\n",
       "    </tr>\n",
       "    <tr>\n",
       "      <th>110020</th>\n",
       "      <td>275054</td>\n",
       "      <td>15728456</td>\n",
       "      <td>Ch'iu</td>\n",
       "      <td>712</td>\n",
       "      <td>France</td>\n",
       "      <td>Male</td>\n",
       "      <td>31.0</td>\n",
       "      <td>2</td>\n",
       "      <td>0.00</td>\n",
       "      <td>2</td>\n",
       "      <td>1.0</td>\n",
       "      <td>0.0</td>\n",
       "      <td>16287.38</td>\n",
       "    </tr>\n",
       "    <tr>\n",
       "      <th>110021</th>\n",
       "      <td>275055</td>\n",
       "      <td>15687541</td>\n",
       "      <td>Yegorova</td>\n",
       "      <td>709</td>\n",
       "      <td>France</td>\n",
       "      <td>Female</td>\n",
       "      <td>32.0</td>\n",
       "      <td>3</td>\n",
       "      <td>0.00</td>\n",
       "      <td>1</td>\n",
       "      <td>1.0</td>\n",
       "      <td>1.0</td>\n",
       "      <td>158816.58</td>\n",
       "    </tr>\n",
       "    <tr>\n",
       "      <th>110022</th>\n",
       "      <td>275056</td>\n",
       "      <td>15663942</td>\n",
       "      <td>Tuan</td>\n",
       "      <td>621</td>\n",
       "      <td>France</td>\n",
       "      <td>Female</td>\n",
       "      <td>37.0</td>\n",
       "      <td>7</td>\n",
       "      <td>87848.39</td>\n",
       "      <td>1</td>\n",
       "      <td>1.0</td>\n",
       "      <td>0.0</td>\n",
       "      <td>24210.56</td>\n",
       "    </tr>\n",
       "  </tbody>\n",
       "</table>\n",
       "<p>110023 rows × 13 columns</p>\n",
       "</div>"
      ],
      "text/plain": [
       "            id  CustomerId    Surname  CreditScore Geography  Gender   Age  \\\n",
       "0       165034    15773898   Lucchese          586    France  Female  23.0   \n",
       "1       165035    15782418       Nott          683    France  Female  46.0   \n",
       "2       165036    15807120         K?          656    France  Female  34.0   \n",
       "3       165037    15808905  O'Donnell          681    France    Male  36.0   \n",
       "4       165038    15607314    Higgins          752   Germany    Male  38.0   \n",
       "...        ...         ...        ...          ...       ...     ...   ...   \n",
       "110018  275052    15662091      P'eng          570     Spain    Male  29.0   \n",
       "110019  275053    15774133        Cox          575    France  Female  36.0   \n",
       "110020  275054    15728456      Ch'iu          712    France    Male  31.0   \n",
       "110021  275055    15687541   Yegorova          709    France  Female  32.0   \n",
       "110022  275056    15663942       Tuan          621    France  Female  37.0   \n",
       "\n",
       "        Tenure    Balance  NumOfProducts  HasCrCard  IsActiveMember  \\\n",
       "0            2       0.00              2        0.0             1.0   \n",
       "1            2       0.00              1        1.0             0.0   \n",
       "2            7       0.00              2        1.0             0.0   \n",
       "3            8       0.00              1        1.0             0.0   \n",
       "4           10  121263.62              1        1.0             0.0   \n",
       "...        ...        ...            ...        ...             ...   \n",
       "110018       7  116099.82              1        1.0             1.0   \n",
       "110019       4  178032.53              1        1.0             1.0   \n",
       "110020       2       0.00              2        1.0             0.0   \n",
       "110021       3       0.00              1        1.0             1.0   \n",
       "110022       7   87848.39              1        1.0             0.0   \n",
       "\n",
       "        EstimatedSalary  \n",
       "0             160976.75  \n",
       "1              72549.27  \n",
       "2             138882.09  \n",
       "3             113931.57  \n",
       "4             139431.00  \n",
       "...                 ...  \n",
       "110018        148087.62  \n",
       "110019         42181.68  \n",
       "110020         16287.38  \n",
       "110021        158816.58  \n",
       "110022         24210.56  \n",
       "\n",
       "[110023 rows x 13 columns]"
      ]
     },
     "execution_count": 4,
     "metadata": {},
     "output_type": "execute_result"
    }
   ],
   "source": [
    "df_test"
   ]
  },
  {
   "cell_type": "code",
   "execution_count": 5,
   "id": "00029cf9",
   "metadata": {},
   "outputs": [],
   "source": [
    "df_train= df_train.drop(columns=['id','CustomerId','Surname'])\n",
    "df_test= df_test.drop(columns=['id','CustomerId','Surname'])"
   ]
  },
  {
   "cell_type": "code",
   "execution_count": 6,
   "id": "34072d4d",
   "metadata": {},
   "outputs": [
    {
     "data": {
      "text/html": [
       "<div>\n",
       "<style scoped>\n",
       "    .dataframe tbody tr th:only-of-type {\n",
       "        vertical-align: middle;\n",
       "    }\n",
       "\n",
       "    .dataframe tbody tr th {\n",
       "        vertical-align: top;\n",
       "    }\n",
       "\n",
       "    .dataframe thead th {\n",
       "        text-align: right;\n",
       "    }\n",
       "</style>\n",
       "<table border=\"1\" class=\"dataframe\">\n",
       "  <thead>\n",
       "    <tr style=\"text-align: right;\">\n",
       "      <th></th>\n",
       "      <th>CreditScore</th>\n",
       "      <th>Geography</th>\n",
       "      <th>Gender</th>\n",
       "      <th>Age</th>\n",
       "      <th>Tenure</th>\n",
       "      <th>Balance</th>\n",
       "      <th>NumOfProducts</th>\n",
       "      <th>HasCrCard</th>\n",
       "      <th>IsActiveMember</th>\n",
       "      <th>EstimatedSalary</th>\n",
       "      <th>Exited</th>\n",
       "    </tr>\n",
       "  </thead>\n",
       "  <tbody>\n",
       "    <tr>\n",
       "      <th>0</th>\n",
       "      <td>668</td>\n",
       "      <td>France</td>\n",
       "      <td>Male</td>\n",
       "      <td>33.0</td>\n",
       "      <td>3</td>\n",
       "      <td>0.00</td>\n",
       "      <td>2</td>\n",
       "      <td>1</td>\n",
       "      <td>0</td>\n",
       "      <td>181449.97</td>\n",
       "      <td>0</td>\n",
       "    </tr>\n",
       "    <tr>\n",
       "      <th>1</th>\n",
       "      <td>627</td>\n",
       "      <td>France</td>\n",
       "      <td>Male</td>\n",
       "      <td>33.0</td>\n",
       "      <td>1</td>\n",
       "      <td>0.00</td>\n",
       "      <td>2</td>\n",
       "      <td>1</td>\n",
       "      <td>1</td>\n",
       "      <td>49503.50</td>\n",
       "      <td>0</td>\n",
       "    </tr>\n",
       "    <tr>\n",
       "      <th>2</th>\n",
       "      <td>678</td>\n",
       "      <td>France</td>\n",
       "      <td>Male</td>\n",
       "      <td>40.0</td>\n",
       "      <td>10</td>\n",
       "      <td>0.00</td>\n",
       "      <td>2</td>\n",
       "      <td>1</td>\n",
       "      <td>0</td>\n",
       "      <td>184866.69</td>\n",
       "      <td>0</td>\n",
       "    </tr>\n",
       "    <tr>\n",
       "      <th>3</th>\n",
       "      <td>581</td>\n",
       "      <td>France</td>\n",
       "      <td>Male</td>\n",
       "      <td>34.0</td>\n",
       "      <td>2</td>\n",
       "      <td>148882.54</td>\n",
       "      <td>1</td>\n",
       "      <td>1</td>\n",
       "      <td>1</td>\n",
       "      <td>84560.88</td>\n",
       "      <td>0</td>\n",
       "    </tr>\n",
       "    <tr>\n",
       "      <th>4</th>\n",
       "      <td>716</td>\n",
       "      <td>Spain</td>\n",
       "      <td>Male</td>\n",
       "      <td>33.0</td>\n",
       "      <td>5</td>\n",
       "      <td>0.00</td>\n",
       "      <td>2</td>\n",
       "      <td>1</td>\n",
       "      <td>1</td>\n",
       "      <td>15068.83</td>\n",
       "      <td>0</td>\n",
       "    </tr>\n",
       "    <tr>\n",
       "      <th>...</th>\n",
       "      <td>...</td>\n",
       "      <td>...</td>\n",
       "      <td>...</td>\n",
       "      <td>...</td>\n",
       "      <td>...</td>\n",
       "      <td>...</td>\n",
       "      <td>...</td>\n",
       "      <td>...</td>\n",
       "      <td>...</td>\n",
       "      <td>...</td>\n",
       "      <td>...</td>\n",
       "    </tr>\n",
       "    <tr>\n",
       "      <th>165029</th>\n",
       "      <td>667</td>\n",
       "      <td>Spain</td>\n",
       "      <td>Female</td>\n",
       "      <td>33.0</td>\n",
       "      <td>2</td>\n",
       "      <td>0.00</td>\n",
       "      <td>1</td>\n",
       "      <td>1</td>\n",
       "      <td>1</td>\n",
       "      <td>131834.75</td>\n",
       "      <td>0</td>\n",
       "    </tr>\n",
       "    <tr>\n",
       "      <th>165030</th>\n",
       "      <td>792</td>\n",
       "      <td>France</td>\n",
       "      <td>Male</td>\n",
       "      <td>35.0</td>\n",
       "      <td>3</td>\n",
       "      <td>0.00</td>\n",
       "      <td>1</td>\n",
       "      <td>0</td>\n",
       "      <td>0</td>\n",
       "      <td>131834.45</td>\n",
       "      <td>0</td>\n",
       "    </tr>\n",
       "    <tr>\n",
       "      <th>165031</th>\n",
       "      <td>565</td>\n",
       "      <td>France</td>\n",
       "      <td>Male</td>\n",
       "      <td>31.0</td>\n",
       "      <td>5</td>\n",
       "      <td>0.00</td>\n",
       "      <td>1</td>\n",
       "      <td>1</td>\n",
       "      <td>1</td>\n",
       "      <td>127429.56</td>\n",
       "      <td>0</td>\n",
       "    </tr>\n",
       "    <tr>\n",
       "      <th>165032</th>\n",
       "      <td>554</td>\n",
       "      <td>Spain</td>\n",
       "      <td>Female</td>\n",
       "      <td>30.0</td>\n",
       "      <td>7</td>\n",
       "      <td>161533.00</td>\n",
       "      <td>1</td>\n",
       "      <td>0</td>\n",
       "      <td>1</td>\n",
       "      <td>71173.03</td>\n",
       "      <td>0</td>\n",
       "    </tr>\n",
       "    <tr>\n",
       "      <th>165033</th>\n",
       "      <td>850</td>\n",
       "      <td>France</td>\n",
       "      <td>Male</td>\n",
       "      <td>31.0</td>\n",
       "      <td>1</td>\n",
       "      <td>0.00</td>\n",
       "      <td>1</td>\n",
       "      <td>1</td>\n",
       "      <td>0</td>\n",
       "      <td>61581.79</td>\n",
       "      <td>1</td>\n",
       "    </tr>\n",
       "  </tbody>\n",
       "</table>\n",
       "<p>165034 rows × 11 columns</p>\n",
       "</div>"
      ],
      "text/plain": [
       "        CreditScore Geography  Gender   Age  Tenure    Balance  NumOfProducts  \\\n",
       "0               668    France    Male  33.0       3       0.00              2   \n",
       "1               627    France    Male  33.0       1       0.00              2   \n",
       "2               678    France    Male  40.0      10       0.00              2   \n",
       "3               581    France    Male  34.0       2  148882.54              1   \n",
       "4               716     Spain    Male  33.0       5       0.00              2   \n",
       "...             ...       ...     ...   ...     ...        ...            ...   \n",
       "165029          667     Spain  Female  33.0       2       0.00              1   \n",
       "165030          792    France    Male  35.0       3       0.00              1   \n",
       "165031          565    France    Male  31.0       5       0.00              1   \n",
       "165032          554     Spain  Female  30.0       7  161533.00              1   \n",
       "165033          850    France    Male  31.0       1       0.00              1   \n",
       "\n",
       "        HasCrCard  IsActiveMember  EstimatedSalary  Exited  \n",
       "0               1               0        181449.97       0  \n",
       "1               1               1         49503.50       0  \n",
       "2               1               0        184866.69       0  \n",
       "3               1               1         84560.88       0  \n",
       "4               1               1         15068.83       0  \n",
       "...           ...             ...              ...     ...  \n",
       "165029          1               1        131834.75       0  \n",
       "165030          0               0        131834.45       0  \n",
       "165031          1               1        127429.56       0  \n",
       "165032          0               1         71173.03       0  \n",
       "165033          1               0         61581.79       1  \n",
       "\n",
       "[165034 rows x 11 columns]"
      ]
     },
     "execution_count": 6,
     "metadata": {},
     "output_type": "execute_result"
    }
   ],
   "source": [
    "df_train"
   ]
  },
  {
   "cell_type": "code",
   "execution_count": 7,
   "id": "f29b53be",
   "metadata": {},
   "outputs": [
    {
     "data": {
      "text/html": [
       "<div>\n",
       "<style scoped>\n",
       "    .dataframe tbody tr th:only-of-type {\n",
       "        vertical-align: middle;\n",
       "    }\n",
       "\n",
       "    .dataframe tbody tr th {\n",
       "        vertical-align: top;\n",
       "    }\n",
       "\n",
       "    .dataframe thead th {\n",
       "        text-align: right;\n",
       "    }\n",
       "</style>\n",
       "<table border=\"1\" class=\"dataframe\">\n",
       "  <thead>\n",
       "    <tr style=\"text-align: right;\">\n",
       "      <th></th>\n",
       "      <th>CreditScore</th>\n",
       "      <th>Age</th>\n",
       "      <th>Tenure</th>\n",
       "      <th>Balance</th>\n",
       "      <th>NumOfProducts</th>\n",
       "      <th>HasCrCard</th>\n",
       "      <th>IsActiveMember</th>\n",
       "      <th>EstimatedSalary</th>\n",
       "      <th>Exited</th>\n",
       "    </tr>\n",
       "  </thead>\n",
       "  <tbody>\n",
       "    <tr>\n",
       "      <th>count</th>\n",
       "      <td>75156.000000</td>\n",
       "      <td>75156.000000</td>\n",
       "      <td>75156.000000</td>\n",
       "      <td>75156.0</td>\n",
       "      <td>75156.000000</td>\n",
       "      <td>75156.000000</td>\n",
       "      <td>75156.000000</td>\n",
       "      <td>75156.000000</td>\n",
       "      <td>75156.0</td>\n",
       "    </tr>\n",
       "    <tr>\n",
       "      <th>mean</th>\n",
       "      <td>656.984925</td>\n",
       "      <td>36.341002</td>\n",
       "      <td>5.070241</td>\n",
       "      <td>0.0</td>\n",
       "      <td>1.817899</td>\n",
       "      <td>0.766366</td>\n",
       "      <td>0.546224</td>\n",
       "      <td>111839.422702</td>\n",
       "      <td>0.0</td>\n",
       "    </tr>\n",
       "    <tr>\n",
       "      <th>std</th>\n",
       "      <td>78.539729</td>\n",
       "      <td>8.000223</td>\n",
       "      <td>2.778952</td>\n",
       "      <td>0.0</td>\n",
       "      <td>0.395635</td>\n",
       "      <td>0.423145</td>\n",
       "      <td>0.497862</td>\n",
       "      <td>50428.057738</td>\n",
       "      <td>0.0</td>\n",
       "    </tr>\n",
       "    <tr>\n",
       "      <th>min</th>\n",
       "      <td>350.000000</td>\n",
       "      <td>18.000000</td>\n",
       "      <td>0.000000</td>\n",
       "      <td>0.0</td>\n",
       "      <td>1.000000</td>\n",
       "      <td>0.000000</td>\n",
       "      <td>0.000000</td>\n",
       "      <td>90.070000</td>\n",
       "      <td>0.0</td>\n",
       "    </tr>\n",
       "    <tr>\n",
       "      <th>25%</th>\n",
       "      <td>599.000000</td>\n",
       "      <td>31.000000</td>\n",
       "      <td>3.000000</td>\n",
       "      <td>0.0</td>\n",
       "      <td>2.000000</td>\n",
       "      <td>1.000000</td>\n",
       "      <td>0.000000</td>\n",
       "      <td>74423.127500</td>\n",
       "      <td>0.0</td>\n",
       "    </tr>\n",
       "    <tr>\n",
       "      <th>50%</th>\n",
       "      <td>662.000000</td>\n",
       "      <td>35.000000</td>\n",
       "      <td>5.000000</td>\n",
       "      <td>0.0</td>\n",
       "      <td>2.000000</td>\n",
       "      <td>1.000000</td>\n",
       "      <td>1.000000</td>\n",
       "      <td>117431.100000</td>\n",
       "      <td>0.0</td>\n",
       "    </tr>\n",
       "    <tr>\n",
       "      <th>75%</th>\n",
       "      <td>710.000000</td>\n",
       "      <td>40.000000</td>\n",
       "      <td>7.000000</td>\n",
       "      <td>0.0</td>\n",
       "      <td>2.000000</td>\n",
       "      <td>1.000000</td>\n",
       "      <td>1.000000</td>\n",
       "      <td>153356.800000</td>\n",
       "      <td>0.0</td>\n",
       "    </tr>\n",
       "    <tr>\n",
       "      <th>max</th>\n",
       "      <td>850.000000</td>\n",
       "      <td>92.000000</td>\n",
       "      <td>10.000000</td>\n",
       "      <td>0.0</td>\n",
       "      <td>4.000000</td>\n",
       "      <td>1.000000</td>\n",
       "      <td>1.000000</td>\n",
       "      <td>199992.480000</td>\n",
       "      <td>0.0</td>\n",
       "    </tr>\n",
       "  </tbody>\n",
       "</table>\n",
       "</div>"
      ],
      "text/plain": [
       "        CreditScore           Age        Tenure  Balance  NumOfProducts  \\\n",
       "count  75156.000000  75156.000000  75156.000000  75156.0   75156.000000   \n",
       "mean     656.984925     36.341002      5.070241      0.0       1.817899   \n",
       "std       78.539729      8.000223      2.778952      0.0       0.395635   \n",
       "min      350.000000     18.000000      0.000000      0.0       1.000000   \n",
       "25%      599.000000     31.000000      3.000000      0.0       2.000000   \n",
       "50%      662.000000     35.000000      5.000000      0.0       2.000000   \n",
       "75%      710.000000     40.000000      7.000000      0.0       2.000000   \n",
       "max      850.000000     92.000000     10.000000      0.0       4.000000   \n",
       "\n",
       "          HasCrCard  IsActiveMember  EstimatedSalary   Exited  \n",
       "count  75156.000000    75156.000000     75156.000000  75156.0  \n",
       "mean       0.766366        0.546224    111839.422702      0.0  \n",
       "std        0.423145        0.497862     50428.057738      0.0  \n",
       "min        0.000000        0.000000        90.070000      0.0  \n",
       "25%        1.000000        0.000000     74423.127500      0.0  \n",
       "50%        1.000000        1.000000    117431.100000      0.0  \n",
       "75%        1.000000        1.000000    153356.800000      0.0  \n",
       "max        1.000000        1.000000    199992.480000      0.0  "
      ]
     },
     "execution_count": 7,
     "metadata": {},
     "output_type": "execute_result"
    }
   ],
   "source": [
    "df_train[(df_train['Balance'] == 0) & (df_train['Exited'] == 0)].describe()"
   ]
  },
  {
   "cell_type": "code",
   "execution_count": 8,
   "id": "46d2f8c7",
   "metadata": {},
   "outputs": [
    {
     "name": "stdout",
     "output_type": "stream",
     "text": [
      "<class 'pandas.core.frame.DataFrame'>\n",
      "RangeIndex: 165034 entries, 0 to 165033\n",
      "Data columns (total 11 columns):\n",
      " #   Column           Non-Null Count   Dtype  \n",
      "---  ------           --------------   -----  \n",
      " 0   CreditScore      165034 non-null  int64  \n",
      " 1   Geography        165034 non-null  object \n",
      " 2   Gender           165034 non-null  object \n",
      " 3   Age              165034 non-null  float64\n",
      " 4   Tenure           165034 non-null  int64  \n",
      " 5   Balance          165034 non-null  float64\n",
      " 6   NumOfProducts    165034 non-null  int64  \n",
      " 7   HasCrCard        165034 non-null  int64  \n",
      " 8   IsActiveMember   165034 non-null  int64  \n",
      " 9   EstimatedSalary  165034 non-null  float64\n",
      " 10  Exited           165034 non-null  int64  \n",
      "dtypes: float64(3), int64(6), object(2)\n",
      "memory usage: 13.9+ MB\n"
     ]
    }
   ],
   "source": [
    "df_train.info()"
   ]
  },
  {
   "cell_type": "code",
   "execution_count": 9,
   "id": "7f7f86d9",
   "metadata": {},
   "outputs": [
    {
     "name": "stdout",
     "output_type": "stream",
     "text": [
      "<class 'pandas.core.frame.DataFrame'>\n",
      "RangeIndex: 110023 entries, 0 to 110022\n",
      "Data columns (total 10 columns):\n",
      " #   Column           Non-Null Count   Dtype  \n",
      "---  ------           --------------   -----  \n",
      " 0   CreditScore      110023 non-null  int64  \n",
      " 1   Geography        110023 non-null  object \n",
      " 2   Gender           110023 non-null  object \n",
      " 3   Age              110023 non-null  float64\n",
      " 4   Tenure           110023 non-null  int64  \n",
      " 5   Balance          110023 non-null  float64\n",
      " 6   NumOfProducts    110023 non-null  int64  \n",
      " 7   HasCrCard        110023 non-null  float64\n",
      " 8   IsActiveMember   110023 non-null  float64\n",
      " 9   EstimatedSalary  110023 non-null  float64\n",
      "dtypes: float64(5), int64(3), object(2)\n",
      "memory usage: 8.4+ MB\n"
     ]
    }
   ],
   "source": [
    "df_test.info()"
   ]
  },
  {
   "cell_type": "code",
   "execution_count": 10,
   "id": "1142395f",
   "metadata": {},
   "outputs": [
    {
     "data": {
      "text/html": [
       "<div>\n",
       "<style scoped>\n",
       "    .dataframe tbody tr th:only-of-type {\n",
       "        vertical-align: middle;\n",
       "    }\n",
       "\n",
       "    .dataframe tbody tr th {\n",
       "        vertical-align: top;\n",
       "    }\n",
       "\n",
       "    .dataframe thead th {\n",
       "        text-align: right;\n",
       "    }\n",
       "</style>\n",
       "<table border=\"1\" class=\"dataframe\">\n",
       "  <thead>\n",
       "    <tr style=\"text-align: right;\">\n",
       "      <th></th>\n",
       "      <th>CreditScore</th>\n",
       "      <th>Age</th>\n",
       "      <th>Tenure</th>\n",
       "      <th>Balance</th>\n",
       "      <th>NumOfProducts</th>\n",
       "      <th>HasCrCard</th>\n",
       "      <th>IsActiveMember</th>\n",
       "      <th>EstimatedSalary</th>\n",
       "      <th>Exited</th>\n",
       "    </tr>\n",
       "  </thead>\n",
       "  <tbody>\n",
       "    <tr>\n",
       "      <th>count</th>\n",
       "      <td>165034.000000</td>\n",
       "      <td>165034.000000</td>\n",
       "      <td>165034.000000</td>\n",
       "      <td>165034.000000</td>\n",
       "      <td>165034.000000</td>\n",
       "      <td>165034.000000</td>\n",
       "      <td>165034.000000</td>\n",
       "      <td>165034.000000</td>\n",
       "      <td>165034.000000</td>\n",
       "    </tr>\n",
       "    <tr>\n",
       "      <th>mean</th>\n",
       "      <td>656.454373</td>\n",
       "      <td>38.125888</td>\n",
       "      <td>5.020353</td>\n",
       "      <td>55478.086689</td>\n",
       "      <td>1.554455</td>\n",
       "      <td>0.753954</td>\n",
       "      <td>0.497770</td>\n",
       "      <td>112574.822734</td>\n",
       "      <td>0.211599</td>\n",
       "    </tr>\n",
       "    <tr>\n",
       "      <th>std</th>\n",
       "      <td>80.103340</td>\n",
       "      <td>8.867205</td>\n",
       "      <td>2.806159</td>\n",
       "      <td>62817.663278</td>\n",
       "      <td>0.547154</td>\n",
       "      <td>0.430707</td>\n",
       "      <td>0.499997</td>\n",
       "      <td>50292.865585</td>\n",
       "      <td>0.408443</td>\n",
       "    </tr>\n",
       "    <tr>\n",
       "      <th>min</th>\n",
       "      <td>350.000000</td>\n",
       "      <td>18.000000</td>\n",
       "      <td>0.000000</td>\n",
       "      <td>0.000000</td>\n",
       "      <td>1.000000</td>\n",
       "      <td>0.000000</td>\n",
       "      <td>0.000000</td>\n",
       "      <td>11.580000</td>\n",
       "      <td>0.000000</td>\n",
       "    </tr>\n",
       "    <tr>\n",
       "      <th>25%</th>\n",
       "      <td>597.000000</td>\n",
       "      <td>32.000000</td>\n",
       "      <td>3.000000</td>\n",
       "      <td>0.000000</td>\n",
       "      <td>1.000000</td>\n",
       "      <td>1.000000</td>\n",
       "      <td>0.000000</td>\n",
       "      <td>74637.570000</td>\n",
       "      <td>0.000000</td>\n",
       "    </tr>\n",
       "    <tr>\n",
       "      <th>50%</th>\n",
       "      <td>659.000000</td>\n",
       "      <td>37.000000</td>\n",
       "      <td>5.000000</td>\n",
       "      <td>0.000000</td>\n",
       "      <td>2.000000</td>\n",
       "      <td>1.000000</td>\n",
       "      <td>0.000000</td>\n",
       "      <td>117948.000000</td>\n",
       "      <td>0.000000</td>\n",
       "    </tr>\n",
       "    <tr>\n",
       "      <th>75%</th>\n",
       "      <td>710.000000</td>\n",
       "      <td>42.000000</td>\n",
       "      <td>7.000000</td>\n",
       "      <td>119939.517500</td>\n",
       "      <td>2.000000</td>\n",
       "      <td>1.000000</td>\n",
       "      <td>1.000000</td>\n",
       "      <td>155152.467500</td>\n",
       "      <td>0.000000</td>\n",
       "    </tr>\n",
       "    <tr>\n",
       "      <th>max</th>\n",
       "      <td>850.000000</td>\n",
       "      <td>92.000000</td>\n",
       "      <td>10.000000</td>\n",
       "      <td>250898.090000</td>\n",
       "      <td>4.000000</td>\n",
       "      <td>1.000000</td>\n",
       "      <td>1.000000</td>\n",
       "      <td>199992.480000</td>\n",
       "      <td>1.000000</td>\n",
       "    </tr>\n",
       "  </tbody>\n",
       "</table>\n",
       "</div>"
      ],
      "text/plain": [
       "         CreditScore            Age         Tenure        Balance  \\\n",
       "count  165034.000000  165034.000000  165034.000000  165034.000000   \n",
       "mean      656.454373      38.125888       5.020353   55478.086689   \n",
       "std        80.103340       8.867205       2.806159   62817.663278   \n",
       "min       350.000000      18.000000       0.000000       0.000000   \n",
       "25%       597.000000      32.000000       3.000000       0.000000   \n",
       "50%       659.000000      37.000000       5.000000       0.000000   \n",
       "75%       710.000000      42.000000       7.000000  119939.517500   \n",
       "max       850.000000      92.000000      10.000000  250898.090000   \n",
       "\n",
       "       NumOfProducts      HasCrCard  IsActiveMember  EstimatedSalary  \\\n",
       "count  165034.000000  165034.000000   165034.000000    165034.000000   \n",
       "mean        1.554455       0.753954        0.497770    112574.822734   \n",
       "std         0.547154       0.430707        0.499997     50292.865585   \n",
       "min         1.000000       0.000000        0.000000        11.580000   \n",
       "25%         1.000000       1.000000        0.000000     74637.570000   \n",
       "50%         2.000000       1.000000        0.000000    117948.000000   \n",
       "75%         2.000000       1.000000        1.000000    155152.467500   \n",
       "max         4.000000       1.000000        1.000000    199992.480000   \n",
       "\n",
       "              Exited  \n",
       "count  165034.000000  \n",
       "mean        0.211599  \n",
       "std         0.408443  \n",
       "min         0.000000  \n",
       "25%         0.000000  \n",
       "50%         0.000000  \n",
       "75%         0.000000  \n",
       "max         1.000000  "
      ]
     },
     "execution_count": 10,
     "metadata": {},
     "output_type": "execute_result"
    }
   ],
   "source": [
    "df_train.describe()"
   ]
  },
  {
   "cell_type": "code",
   "execution_count": 11,
   "id": "7059032d",
   "metadata": {},
   "outputs": [
    {
     "data": {
      "text/html": [
       "<div>\n",
       "<style scoped>\n",
       "    .dataframe tbody tr th:only-of-type {\n",
       "        vertical-align: middle;\n",
       "    }\n",
       "\n",
       "    .dataframe tbody tr th {\n",
       "        vertical-align: top;\n",
       "    }\n",
       "\n",
       "    .dataframe thead th {\n",
       "        text-align: right;\n",
       "    }\n",
       "</style>\n",
       "<table border=\"1\" class=\"dataframe\">\n",
       "  <thead>\n",
       "    <tr style=\"text-align: right;\">\n",
       "      <th></th>\n",
       "      <th>CreditScore</th>\n",
       "      <th>Age</th>\n",
       "      <th>Tenure</th>\n",
       "      <th>Balance</th>\n",
       "      <th>NumOfProducts</th>\n",
       "      <th>HasCrCard</th>\n",
       "      <th>IsActiveMember</th>\n",
       "      <th>EstimatedSalary</th>\n",
       "    </tr>\n",
       "  </thead>\n",
       "  <tbody>\n",
       "    <tr>\n",
       "      <th>count</th>\n",
       "      <td>110023.000000</td>\n",
       "      <td>110023.000000</td>\n",
       "      <td>110023.000000</td>\n",
       "      <td>110023.000000</td>\n",
       "      <td>110023.000000</td>\n",
       "      <td>110023.000000</td>\n",
       "      <td>110023.000000</td>\n",
       "      <td>110023.000000</td>\n",
       "    </tr>\n",
       "    <tr>\n",
       "      <th>mean</th>\n",
       "      <td>656.530789</td>\n",
       "      <td>38.122205</td>\n",
       "      <td>4.996637</td>\n",
       "      <td>55333.611354</td>\n",
       "      <td>1.553321</td>\n",
       "      <td>0.753043</td>\n",
       "      <td>0.495233</td>\n",
       "      <td>112315.147765</td>\n",
       "    </tr>\n",
       "    <tr>\n",
       "      <th>std</th>\n",
       "      <td>80.315415</td>\n",
       "      <td>8.861550</td>\n",
       "      <td>2.806148</td>\n",
       "      <td>62788.519675</td>\n",
       "      <td>0.544714</td>\n",
       "      <td>0.431244</td>\n",
       "      <td>0.499980</td>\n",
       "      <td>50277.048244</td>\n",
       "    </tr>\n",
       "    <tr>\n",
       "      <th>min</th>\n",
       "      <td>350.000000</td>\n",
       "      <td>18.000000</td>\n",
       "      <td>0.000000</td>\n",
       "      <td>0.000000</td>\n",
       "      <td>1.000000</td>\n",
       "      <td>0.000000</td>\n",
       "      <td>0.000000</td>\n",
       "      <td>11.580000</td>\n",
       "    </tr>\n",
       "    <tr>\n",
       "      <th>25%</th>\n",
       "      <td>597.000000</td>\n",
       "      <td>32.000000</td>\n",
       "      <td>3.000000</td>\n",
       "      <td>0.000000</td>\n",
       "      <td>1.000000</td>\n",
       "      <td>1.000000</td>\n",
       "      <td>0.000000</td>\n",
       "      <td>74440.325000</td>\n",
       "    </tr>\n",
       "    <tr>\n",
       "      <th>50%</th>\n",
       "      <td>660.000000</td>\n",
       "      <td>37.000000</td>\n",
       "      <td>5.000000</td>\n",
       "      <td>0.000000</td>\n",
       "      <td>2.000000</td>\n",
       "      <td>1.000000</td>\n",
       "      <td>0.000000</td>\n",
       "      <td>117832.230000</td>\n",
       "    </tr>\n",
       "    <tr>\n",
       "      <th>75%</th>\n",
       "      <td>710.000000</td>\n",
       "      <td>42.000000</td>\n",
       "      <td>7.000000</td>\n",
       "      <td>120145.605000</td>\n",
       "      <td>2.000000</td>\n",
       "      <td>1.000000</td>\n",
       "      <td>1.000000</td>\n",
       "      <td>154631.350000</td>\n",
       "    </tr>\n",
       "    <tr>\n",
       "      <th>max</th>\n",
       "      <td>850.000000</td>\n",
       "      <td>92.000000</td>\n",
       "      <td>10.000000</td>\n",
       "      <td>250898.090000</td>\n",
       "      <td>4.000000</td>\n",
       "      <td>1.000000</td>\n",
       "      <td>1.000000</td>\n",
       "      <td>199992.480000</td>\n",
       "    </tr>\n",
       "  </tbody>\n",
       "</table>\n",
       "</div>"
      ],
      "text/plain": [
       "         CreditScore            Age         Tenure        Balance  \\\n",
       "count  110023.000000  110023.000000  110023.000000  110023.000000   \n",
       "mean      656.530789      38.122205       4.996637   55333.611354   \n",
       "std        80.315415       8.861550       2.806148   62788.519675   \n",
       "min       350.000000      18.000000       0.000000       0.000000   \n",
       "25%       597.000000      32.000000       3.000000       0.000000   \n",
       "50%       660.000000      37.000000       5.000000       0.000000   \n",
       "75%       710.000000      42.000000       7.000000  120145.605000   \n",
       "max       850.000000      92.000000      10.000000  250898.090000   \n",
       "\n",
       "       NumOfProducts      HasCrCard  IsActiveMember  EstimatedSalary  \n",
       "count  110023.000000  110023.000000   110023.000000    110023.000000  \n",
       "mean        1.553321       0.753043        0.495233    112315.147765  \n",
       "std         0.544714       0.431244        0.499980     50277.048244  \n",
       "min         1.000000       0.000000        0.000000        11.580000  \n",
       "25%         1.000000       1.000000        0.000000     74440.325000  \n",
       "50%         2.000000       1.000000        0.000000    117832.230000  \n",
       "75%         2.000000       1.000000        1.000000    154631.350000  \n",
       "max         4.000000       1.000000        1.000000    199992.480000  "
      ]
     },
     "execution_count": 11,
     "metadata": {},
     "output_type": "execute_result"
    }
   ],
   "source": [
    "df_test.describe()"
   ]
  },
  {
   "cell_type": "code",
   "execution_count": 12,
   "id": "2b1bd802",
   "metadata": {},
   "outputs": [],
   "source": [
    "def type(df,column,types):\n",
    "    df[column]= df[column].astype(types)\n",
    "    return"
   ]
  },
  {
   "cell_type": "code",
   "execution_count": 13,
   "id": "627ec5a7",
   "metadata": {},
   "outputs": [],
   "source": [
    "type(df_train,'Age','int64')\n",
    "type(df_test,'Age','int64')\n",
    "\n",
    "type(df_train,'HasCrCard','uint8')\n",
    "type(df_test,'HasCrCard','uint8')\n",
    "\n",
    "type(df_train,'IsActiveMember','uint8')\n",
    "type(df_test,'IsActiveMember','uint8')"
   ]
  },
  {
   "cell_type": "code",
   "execution_count": 14,
   "id": "82119f64",
   "metadata": {},
   "outputs": [
    {
     "name": "stdout",
     "output_type": "stream",
     "text": [
      "<class 'pandas.core.frame.DataFrame'>\n",
      "RangeIndex: 165034 entries, 0 to 165033\n",
      "Data columns (total 11 columns):\n",
      " #   Column           Non-Null Count   Dtype  \n",
      "---  ------           --------------   -----  \n",
      " 0   CreditScore      165034 non-null  int64  \n",
      " 1   Geography        165034 non-null  object \n",
      " 2   Gender           165034 non-null  object \n",
      " 3   Age              165034 non-null  int64  \n",
      " 4   Tenure           165034 non-null  int64  \n",
      " 5   Balance          165034 non-null  float64\n",
      " 6   NumOfProducts    165034 non-null  int64  \n",
      " 7   HasCrCard        165034 non-null  uint8  \n",
      " 8   IsActiveMember   165034 non-null  uint8  \n",
      " 9   EstimatedSalary  165034 non-null  float64\n",
      " 10  Exited           165034 non-null  int64  \n",
      "dtypes: float64(2), int64(5), object(2), uint8(2)\n",
      "memory usage: 11.6+ MB\n"
     ]
    }
   ],
   "source": [
    "df_train.info()"
   ]
  },
  {
   "cell_type": "code",
   "execution_count": 15,
   "id": "45f01784",
   "metadata": {},
   "outputs": [
    {
     "data": {
      "text/plain": [
       "(CreditScore        0\n",
       " Geography          0\n",
       " Gender             0\n",
       " Age                0\n",
       " Tenure             0\n",
       " Balance            0\n",
       " NumOfProducts      0\n",
       " HasCrCard          0\n",
       " IsActiveMember     0\n",
       " EstimatedSalary    0\n",
       " Exited             0\n",
       " dtype: int64,\n",
       " CreditScore        0\n",
       " Geography          0\n",
       " Gender             0\n",
       " Age                0\n",
       " Tenure             0\n",
       " Balance            0\n",
       " NumOfProducts      0\n",
       " HasCrCard          0\n",
       " IsActiveMember     0\n",
       " EstimatedSalary    0\n",
       " dtype: int64)"
      ]
     },
     "execution_count": 15,
     "metadata": {},
     "output_type": "execute_result"
    }
   ],
   "source": [
    "limpieza.nan(df_train),limpieza.nan(df_test)"
   ]
  },
  {
   "cell_type": "code",
   "execution_count": 16,
   "id": "eb61917d",
   "metadata": {},
   "outputs": [
    {
     "name": "stderr",
     "output_type": "stream",
     "text": [
      "D:\\Anaconda\\lib\\site-packages\\scipy\\stats\\morestats.py:1760: UserWarning: p-value may not be accurate for N > 5000.\n",
      "  warnings.warn(\"p-value may not be accurate for N > 5000.\")\n"
     ]
    },
    {
     "data": {
      "text/plain": [
       "({'CreditScore': (0.9962234497070312, 0.0),\n",
       "  'Age': (0.9507551193237305, 0.0),\n",
       "  'Tenure': (0.9501748085021973, 0.0),\n",
       "  'Balance': (0.7539149522781372, 0.0),\n",
       "  'NumOfProducts': (0.694777250289917, 0.0),\n",
       "  'EstimatedSalary': (0.9672561883926392, 0.0),\n",
       "  'Exited': (0.502591609954834, 0.0)},\n",
       " {'CreditScore': (1.0, 0.0),\n",
       "  'Age': (1.0, 0.0),\n",
       "  'Tenure': (0.8453558340951816, 0.0),\n",
       "  'Balance': (0.5, 0.0),\n",
       "  'NumOfProducts': (0.8413447460685429, 0.0),\n",
       "  'EstimatedSalary': (1.0, 0.0),\n",
       "  'Exited': (0.5, 0.0)})"
      ]
     },
     "execution_count": 16,
     "metadata": {},
     "output_type": "execute_result"
    }
   ],
   "source": [
    "limpieza.shapiro(df_train), limpieza.ks(df_train)"
   ]
  },
  {
   "cell_type": "code",
   "execution_count": 17,
   "id": "6edf9c8b",
   "metadata": {},
   "outputs": [
    {
     "data": {
      "text/plain": [
       "({'CreditScore': (0.996322512626648, 1.964200057444096e-41),\n",
       "  'Age': (0.9505649209022522, 0.0),\n",
       "  'Tenure': (0.9499167203903198, 0.0),\n",
       "  'Balance': (0.7530813217163086, 0.0),\n",
       "  'NumOfProducts': (0.6910748481750488, 0.0),\n",
       "  'EstimatedSalary': (0.9675028920173645, 0.0)},\n",
       " {'CreditScore': (1.0, 0.0),\n",
       "  'Age': (1.0, 0.0),\n",
       "  'Tenure': (0.8454501534466927, 0.0),\n",
       "  'Balance': (0.5, 0.0),\n",
       "  'NumOfProducts': (0.8413447460685429, 0.0),\n",
       "  'EstimatedSalary': (1.0, 0.0)})"
      ]
     },
     "execution_count": 17,
     "metadata": {},
     "output_type": "execute_result"
    }
   ],
   "source": [
    "limpieza.shapiro(df_test), limpieza.ks(df_test)"
   ]
  },
  {
   "cell_type": "code",
   "execution_count": 18,
   "id": "e39e8eb5",
   "metadata": {},
   "outputs": [
    {
     "data": {
      "text/plain": [
       "array([[<AxesSubplot:title={'center':'CreditScore'}>,\n",
       "        <AxesSubplot:title={'center':'Age'}>,\n",
       "        <AxesSubplot:title={'center':'Tenure'}>],\n",
       "       [<AxesSubplot:title={'center':'Balance'}>,\n",
       "        <AxesSubplot:title={'center':'NumOfProducts'}>,\n",
       "        <AxesSubplot:title={'center':'HasCrCard'}>],\n",
       "       [<AxesSubplot:title={'center':'IsActiveMember'}>,\n",
       "        <AxesSubplot:title={'center':'EstimatedSalary'}>,\n",
       "        <AxesSubplot:title={'center':'Exited'}>]], dtype=object)"
      ]
     },
     "execution_count": 18,
     "metadata": {},
     "output_type": "execute_result"
    },
    {
     "data": {
      "image/png": "[encoded data removed]",
      "text/plain": [
       "<Figure size 1440x720 with 9 Axes>"
      ]
     },
     "metadata": {
      "needs_background": "light"
     },
     "output_type": "display_data"
    }
   ],
   "source": [
    "df_train.hist(figsize=(20,10))"
   ]
  },
  {
   "cell_type": "code",
   "execution_count": 19,
   "id": "6d0f0d4e",
   "metadata": {},
   "outputs": [
    {
     "data": {
      "text/plain": [
       "array([[<AxesSubplot:title={'center':'CreditScore'}>,\n",
       "        <AxesSubplot:title={'center':'Age'}>,\n",
       "        <AxesSubplot:title={'center':'Tenure'}>],\n",
       "       [<AxesSubplot:title={'center':'Balance'}>,\n",
       "        <AxesSubplot:title={'center':'NumOfProducts'}>,\n",
       "        <AxesSubplot:title={'center':'HasCrCard'}>],\n",
       "       [<AxesSubplot:title={'center':'IsActiveMember'}>,\n",
       "        <AxesSubplot:title={'center':'EstimatedSalary'}>, <AxesSubplot:>]],\n",
       "      dtype=object)"
      ]
     },
     "execution_count": 19,
     "metadata": {},
     "output_type": "execute_result"
    },
    {
     "data": {
      "image/png": "[encoded data removed]",
      "text/plain": [
       "<Figure size 1440x720 with 9 Axes>"
      ]
     },
     "metadata": {
      "needs_background": "light"
     },
     "output_type": "display_data"
    }
   ],
   "source": [
    "df_test.hist(figsize=(20,10))"
   ]
  },
  {
   "cell_type": "code",
   "execution_count": 20,
   "id": "e6775ddf",
   "metadata": {},
   "outputs": [
    {
     "data": {
      "text/plain": [
       "<AxesSubplot:>"
      ]
     },
     "execution_count": 20,
     "metadata": {},
     "output_type": "execute_result"
    },
    {
     "data": {
      "image/png": "[encoded data removed]",
      "text/plain": [
       "<Figure size 1080x360 with 1 Axes>"
      ]
     },
     "metadata": {
      "needs_background": "light"
     },
     "output_type": "display_data"
    }
   ],
   "source": [
    "df_train.boxplot(figsize=(15,5))"
   ]
  },
  {
   "cell_type": "code",
   "execution_count": 21,
   "id": "e0f87435",
   "metadata": {},
   "outputs": [
    {
     "data": {
      "text/plain": [
       "<AxesSubplot:>"
      ]
     },
     "execution_count": 21,
     "metadata": {},
     "output_type": "execute_result"
    },
    {
     "data": {
      "image/png": "[encoded data removed]",
      "text/plain": [
       "<Figure size 1080x360 with 1 Axes>"
      ]
     },
     "metadata": {
      "needs_background": "light"
     },
     "output_type": "display_data"
    }
   ],
   "source": [
    "df_test.boxplot(figsize=(15,5))"
   ]
  },
  {
   "cell_type": "code",
   "execution_count": 22,
   "id": "e54eb188",
   "metadata": {},
   "outputs": [],
   "source": [
    "def graf_func(df,column):\n",
    "    column= df[column]\n",
    "    plot = sns.JointGrid(data=df, x=column)\n",
    "    plot.plot_joint(sns.histplot)\n",
    "    plot.plot_marginals(sns.boxplot)\n",
    "    return plot"
   ]
  },
  {
   "cell_type": "code",
   "execution_count": 23,
   "id": "617c8158",
   "metadata": {},
   "outputs": [
    {
     "data": {
      "text/plain": [
       "(<seaborn.axisgrid.JointGrid at 0x1eb9bec28b0>,\n",
       " <seaborn.axisgrid.JointGrid at 0x1eb9be765e0>)"
      ]
     },
     "execution_count": 23,
     "metadata": {},
     "output_type": "execute_result"
    },
    {
     "data": {
      "image/png": "[encoded data removed]",
      "text/plain": [
       "<Figure size 432x432 with 3 Axes>"
      ]
     },
     "metadata": {
      "needs_background": "light"
     },
     "output_type": "display_data"
    },
    {
     "data": {
      "image/png": "[encoded data removed]",
      "text/plain": [
       "<Figure size 432x432 with 3 Axes>"
      ]
     },
     "metadata": {
      "needs_background": "light"
     },
     "output_type": "display_data"
    }
   ],
   "source": [
    "graf_func(df_train,'CreditScore'), graf_func(df_test,'CreditScore')"
   ]
  },
  {
   "cell_type": "code",
   "execution_count": 24,
   "id": "dcdf7924",
   "metadata": {},
   "outputs": [
    {
     "data": {
      "text/plain": [
       "427"
      ]
     },
     "execution_count": 24,
     "metadata": {},
     "output_type": "execute_result"
    }
   ],
   "source": [
    "outliers.quantileoutlier(df_train,'CreditScore',1.5).max()"
   ]
  },
  {
   "cell_type": "code",
   "execution_count": 25,
   "id": "15ffc60d",
   "metadata": {},
   "outputs": [
    {
     "data": {
      "text/plain": [
       "427"
      ]
     },
     "execution_count": 25,
     "metadata": {},
     "output_type": "execute_result"
    }
   ],
   "source": [
    "outliers.quantileoutlier(df_test,'CreditScore',1.5).max()"
   ]
  },
  {
   "cell_type": "code",
   "execution_count": 26,
   "id": "cd451e3d",
   "metadata": {},
   "outputs": [
    {
     "data": {
      "text/plain": [
       "(<seaborn.axisgrid.JointGrid at 0x1eb9f89a460>,\n",
       " <seaborn.axisgrid.JointGrid at 0x1eb9ca2a610>)"
      ]
     },
     "execution_count": 26,
     "metadata": {},
     "output_type": "execute_result"
    },
    {
     "data": {
      "image/png": "[encoded data removed]",
      "text/plain": [
       "<Figure size 432x432 with 3 Axes>"
      ]
     },
     "metadata": {
      "needs_background": "light"
     },
     "output_type": "display_data"
    },
    {
     "data": {
      "image/png": "[encoded data removed]",
      "text/plain": [
       "<Figure size 432x432 with 3 Axes>"
      ]
     },
     "metadata": {
      "needs_background": "light"
     },
     "output_type": "display_data"
    }
   ],
   "source": [
    "graf_func(df_train,'Age'), graf_func(df_test,'Age')"
   ]
  },
  {
   "cell_type": "code",
   "execution_count": 27,
   "id": "4270aa1e",
   "metadata": {},
   "outputs": [
    {
     "data": {
      "text/plain": [
       "58"
      ]
     },
     "execution_count": 27,
     "metadata": {},
     "output_type": "execute_result"
    }
   ],
   "source": [
    "outliers.quantileoutlier(df_train,'Age',1.5).min()"
   ]
  },
  {
   "cell_type": "code",
   "execution_count": 28,
   "id": "dd7e2702",
   "metadata": {},
   "outputs": [
    {
     "data": {
      "text/plain": [
       "58"
      ]
     },
     "execution_count": 28,
     "metadata": {},
     "output_type": "execute_result"
    }
   ],
   "source": [
    "outliers.quantileoutlier(df_test,'Age',1.5).min()"
   ]
  },
  {
   "cell_type": "code",
   "execution_count": 29,
   "id": "dde5746e",
   "metadata": {},
   "outputs": [
    {
     "data": {
      "text/plain": [
       "(<seaborn.axisgrid.JointGrid at 0x1eb9e5b28e0>,\n",
       " <seaborn.axisgrid.JointGrid at 0x1eb9e678670>)"
      ]
     },
     "execution_count": 29,
     "metadata": {},
     "output_type": "execute_result"
    },
    {
     "data": {
      "image/png": "[encoded data removed]",
      "text/plain": [
       "<Figure size 432x432 with 3 Axes>"
      ]
     },
     "metadata": {
      "needs_background": "light"
     },
     "output_type": "display_data"
    },
    {
     "data": {
      "image/png": "[encoded data removed]",
      "text/plain": [
       "<Figure size 432x432 with 3 Axes>"
      ]
     },
     "metadata": {
      "needs_background": "light"
     },
     "output_type": "display_data"
    }
   ],
   "source": [
    "graf_func(df_train,'Balance'), graf_func(df_test,'Balance')"
   ]
  },
  {
   "cell_type": "code",
   "execution_count": 30,
   "id": "920b97d1",
   "metadata": {},
   "outputs": [
    {
     "data": {
      "text/plain": [
       "Series([], Name: Balance, dtype: float64)"
      ]
     },
     "execution_count": 30,
     "metadata": {},
     "output_type": "execute_result"
    }
   ],
   "source": [
    "outliers.quantileoutlier(df_train,'Balance',1.5)"
   ]
  },
  {
   "cell_type": "code",
   "execution_count": 31,
   "id": "72878e9b",
   "metadata": {},
   "outputs": [
    {
     "data": {
      "text/plain": [
       "Series([], Name: Balance, dtype: float64)"
      ]
     },
     "execution_count": 31,
     "metadata": {},
     "output_type": "execute_result"
    }
   ],
   "source": [
    "outliers.quantileoutlier(df_test,'Balance',1.5)"
   ]
  },
  {
   "cell_type": "code",
   "execution_count": 32,
   "id": "e1b75374",
   "metadata": {},
   "outputs": [
    {
     "data": {
      "text/plain": [
       "(<seaborn.axisgrid.JointGrid at 0x1eb9e8c9a90>,\n",
       " <seaborn.axisgrid.JointGrid at 0x1eb9e89b6a0>)"
      ]
     },
     "execution_count": 32,
     "metadata": {},
     "output_type": "execute_result"
    },
    {
     "data": {
      "image/png": "[encoded data removed]",
      "text/plain": [
       "<Figure size 432x432 with 3 Axes>"
      ]
     },
     "metadata": {
      "needs_background": "light"
     },
     "output_type": "display_data"
    },
    {
     "data": {
      "image/png": "[encoded data removed]",
      "text/plain": [
       "<Figure size 432x432 with 3 Axes>"
      ]
     },
     "metadata": {
      "needs_background": "light"
     },
     "output_type": "display_data"
    }
   ],
   "source": [
    "graf_func(df_train,'EstimatedSalary'), graf_func(df_test,'EstimatedSalary')"
   ]
  },
  {
   "cell_type": "code",
   "execution_count": 33,
   "id": "3e89189d",
   "metadata": {},
   "outputs": [
    {
     "data": {
      "text/plain": [
       "Series([], Name: EstimatedSalary, dtype: float64)"
      ]
     },
     "execution_count": 33,
     "metadata": {},
     "output_type": "execute_result"
    }
   ],
   "source": [
    "outliers.quantileoutlier(df_train,'EstimatedSalary',1.5)"
   ]
  },
  {
   "cell_type": "code",
   "execution_count": 34,
   "id": "f4200feb",
   "metadata": {},
   "outputs": [
    {
     "data": {
      "text/plain": [
       "Series([], Name: EstimatedSalary, dtype: float64)"
      ]
     },
     "execution_count": 34,
     "metadata": {},
     "output_type": "execute_result"
    }
   ],
   "source": [
    "outliers.quantileoutlier(df_test,'EstimatedSalary',1.5)"
   ]
  },
  {
   "cell_type": "code",
   "execution_count": 35,
   "id": "cdd5cda4",
   "metadata": {},
   "outputs": [
    {
     "name": "stderr",
     "output_type": "stream",
     "text": [
      "D:\\Anaconda\\lib\\site-packages\\sklearn\\base.py:409: UserWarning: X does not have valid feature names, but IsolationForest was fitted with feature names\n",
      "  warnings.warn(\n"
     ]
    }
   ],
   "source": [
    "df_isolation= outliers.isolation(df_train,0.1)"
   ]
  },
  {
   "cell_type": "code",
   "execution_count": 36,
   "id": "64283e00",
   "metadata": {},
   "outputs": [
    {
     "data": {
      "text/html": [
       "<div>\n",
       "<style scoped>\n",
       "    .dataframe tbody tr th:only-of-type {\n",
       "        vertical-align: middle;\n",
       "    }\n",
       "\n",
       "    .dataframe tbody tr th {\n",
       "        vertical-align: top;\n",
       "    }\n",
       "\n",
       "    .dataframe thead th {\n",
       "        text-align: right;\n",
       "    }\n",
       "</style>\n",
       "<table border=\"1\" class=\"dataframe\">\n",
       "  <thead>\n",
       "    <tr style=\"text-align: right;\">\n",
       "      <th></th>\n",
       "      <th>CreditScore</th>\n",
       "      <th>Age</th>\n",
       "      <th>Tenure</th>\n",
       "      <th>Balance</th>\n",
       "      <th>NumOfProducts</th>\n",
       "      <th>HasCrCard</th>\n",
       "      <th>IsActiveMember</th>\n",
       "      <th>EstimatedSalary</th>\n",
       "      <th>Exited</th>\n",
       "    </tr>\n",
       "  </thead>\n",
       "  <tbody>\n",
       "    <tr>\n",
       "      <th>count</th>\n",
       "      <td>148530.000000</td>\n",
       "      <td>148530.000000</td>\n",
       "      <td>148530.000000</td>\n",
       "      <td>148530.000000</td>\n",
       "      <td>148530.000000</td>\n",
       "      <td>148530.000000</td>\n",
       "      <td>148530.000000</td>\n",
       "      <td>148530.000000</td>\n",
       "      <td>148530.000000</td>\n",
       "    </tr>\n",
       "    <tr>\n",
       "      <th>mean</th>\n",
       "      <td>656.318198</td>\n",
       "      <td>37.332451</td>\n",
       "      <td>5.038416</td>\n",
       "      <td>52660.068366</td>\n",
       "      <td>1.544961</td>\n",
       "      <td>0.795328</td>\n",
       "      <td>0.496385</td>\n",
       "      <td>113569.397607</td>\n",
       "      <td>0.154952</td>\n",
       "    </tr>\n",
       "    <tr>\n",
       "      <th>std</th>\n",
       "      <td>76.298493</td>\n",
       "      <td>7.991340</td>\n",
       "      <td>2.750676</td>\n",
       "      <td>61941.441021</td>\n",
       "      <td>0.503195</td>\n",
       "      <td>0.403463</td>\n",
       "      <td>0.499989</td>\n",
       "      <td>48915.728972</td>\n",
       "      <td>0.361860</td>\n",
       "    </tr>\n",
       "    <tr>\n",
       "      <th>min</th>\n",
       "      <td>350.000000</td>\n",
       "      <td>18.000000</td>\n",
       "      <td>0.000000</td>\n",
       "      <td>0.000000</td>\n",
       "      <td>1.000000</td>\n",
       "      <td>0.000000</td>\n",
       "      <td>0.000000</td>\n",
       "      <td>11.580000</td>\n",
       "      <td>0.000000</td>\n",
       "    </tr>\n",
       "    <tr>\n",
       "      <th>25%</th>\n",
       "      <td>599.000000</td>\n",
       "      <td>32.000000</td>\n",
       "      <td>3.000000</td>\n",
       "      <td>0.000000</td>\n",
       "      <td>1.000000</td>\n",
       "      <td>1.000000</td>\n",
       "      <td>0.000000</td>\n",
       "      <td>76821.240000</td>\n",
       "      <td>0.000000</td>\n",
       "    </tr>\n",
       "    <tr>\n",
       "      <th>50%</th>\n",
       "      <td>659.000000</td>\n",
       "      <td>37.000000</td>\n",
       "      <td>5.000000</td>\n",
       "      <td>0.000000</td>\n",
       "      <td>2.000000</td>\n",
       "      <td>1.000000</td>\n",
       "      <td>0.000000</td>\n",
       "      <td>119333.300000</td>\n",
       "      <td>0.000000</td>\n",
       "    </tr>\n",
       "    <tr>\n",
       "      <th>75%</th>\n",
       "      <td>709.000000</td>\n",
       "      <td>41.000000</td>\n",
       "      <td>7.000000</td>\n",
       "      <td>117559.050000</td>\n",
       "      <td>2.000000</td>\n",
       "      <td>1.000000</td>\n",
       "      <td>1.000000</td>\n",
       "      <td>153955.380000</td>\n",
       "      <td>0.000000</td>\n",
       "    </tr>\n",
       "    <tr>\n",
       "      <th>max</th>\n",
       "      <td>850.000000</td>\n",
       "      <td>92.000000</td>\n",
       "      <td>10.000000</td>\n",
       "      <td>250898.090000</td>\n",
       "      <td>4.000000</td>\n",
       "      <td>1.000000</td>\n",
       "      <td>1.000000</td>\n",
       "      <td>199992.480000</td>\n",
       "      <td>1.000000</td>\n",
       "    </tr>\n",
       "  </tbody>\n",
       "</table>\n",
       "</div>"
      ],
      "text/plain": [
       "         CreditScore            Age         Tenure        Balance  \\\n",
       "count  148530.000000  148530.000000  148530.000000  148530.000000   \n",
       "mean      656.318198      37.332451       5.038416   52660.068366   \n",
       "std        76.298493       7.991340       2.750676   61941.441021   \n",
       "min       350.000000      18.000000       0.000000       0.000000   \n",
       "25%       599.000000      32.000000       3.000000       0.000000   \n",
       "50%       659.000000      37.000000       5.000000       0.000000   \n",
       "75%       709.000000      41.000000       7.000000  117559.050000   \n",
       "max       850.000000      92.000000      10.000000  250898.090000   \n",
       "\n",
       "       NumOfProducts      HasCrCard  IsActiveMember  EstimatedSalary  \\\n",
       "count  148530.000000  148530.000000   148530.000000    148530.000000   \n",
       "mean        1.544961       0.795328        0.496385    113569.397607   \n",
       "std         0.503195       0.403463        0.499989     48915.728972   \n",
       "min         1.000000       0.000000        0.000000        11.580000   \n",
       "25%         1.000000       1.000000        0.000000     76821.240000   \n",
       "50%         2.000000       1.000000        0.000000    119333.300000   \n",
       "75%         2.000000       1.000000        1.000000    153955.380000   \n",
       "max         4.000000       1.000000        1.000000    199992.480000   \n",
       "\n",
       "              Exited  \n",
       "count  148530.000000  \n",
       "mean        0.154952  \n",
       "std         0.361860  \n",
       "min         0.000000  \n",
       "25%         0.000000  \n",
       "50%         0.000000  \n",
       "75%         0.000000  \n",
       "max         1.000000  "
      ]
     },
     "execution_count": 36,
     "metadata": {},
     "output_type": "execute_result"
    }
   ],
   "source": [
    "df_isolation.describe()"
   ]
  },
  {
   "cell_type": "code",
   "execution_count": 37,
   "id": "73db3918",
   "metadata": {},
   "outputs": [
    {
     "data": {
      "text/plain": [
       "<AxesSubplot:>"
      ]
     },
     "execution_count": 37,
     "metadata": {},
     "output_type": "execute_result"
    },
    {
     "data": {
      "image/png": "[encoded data removed]",
      "text/plain": [
       "<Figure size 1080x360 with 1 Axes>"
      ]
     },
     "metadata": {
      "needs_background": "light"
     },
     "output_type": "display_data"
    }
   ],
   "source": [
    "df_isolation.boxplot(figsize=(15,5))"
   ]
  },
  {
   "cell_type": "code",
   "execution_count": 38,
   "id": "0e8f1b0d",
   "metadata": {},
   "outputs": [
    {
     "data": {
      "text/plain": [
       "array([[<AxesSubplot:title={'center':'CreditScore'}>,\n",
       "        <AxesSubplot:title={'center':'Age'}>,\n",
       "        <AxesSubplot:title={'center':'Tenure'}>],\n",
       "       [<AxesSubplot:title={'center':'Balance'}>,\n",
       "        <AxesSubplot:title={'center':'NumOfProducts'}>,\n",
       "        <AxesSubplot:title={'center':'HasCrCard'}>],\n",
       "       [<AxesSubplot:title={'center':'IsActiveMember'}>,\n",
       "        <AxesSubplot:title={'center':'EstimatedSalary'}>,\n",
       "        <AxesSubplot:title={'center':'Exited'}>]], dtype=object)"
      ]
     },
     "execution_count": 38,
     "metadata": {},
     "output_type": "execute_result"
    },
    {
     "data": {
      "image/png": "[encoded data removed]",
      "text/plain": [
       "<Figure size 1440x720 with 9 Axes>"
      ]
     },
     "metadata": {
      "needs_background": "light"
     },
     "output_type": "display_data"
    }
   ],
   "source": [
    "df_isolation.hist(figsize=(20,10))"
   ]
  },
  {
   "cell_type": "code",
   "execution_count": 39,
   "id": "6ae1adda",
   "metadata": {},
   "outputs": [],
   "source": [
    "df_knn= outliers.knn_outliers(df_train,0.1)"
   ]
  },
  {
   "cell_type": "code",
   "execution_count": 40,
   "id": "bbf86ea9",
   "metadata": {},
   "outputs": [
    {
     "data": {
      "text/html": [
       "<div>\n",
       "<style scoped>\n",
       "    .dataframe tbody tr th:only-of-type {\n",
       "        vertical-align: middle;\n",
       "    }\n",
       "\n",
       "    .dataframe tbody tr th {\n",
       "        vertical-align: top;\n",
       "    }\n",
       "\n",
       "    .dataframe thead th {\n",
       "        text-align: right;\n",
       "    }\n",
       "</style>\n",
       "<table border=\"1\" class=\"dataframe\">\n",
       "  <thead>\n",
       "    <tr style=\"text-align: right;\">\n",
       "      <th></th>\n",
       "      <th>CreditScore</th>\n",
       "      <th>Age</th>\n",
       "      <th>Tenure</th>\n",
       "      <th>Balance</th>\n",
       "      <th>NumOfProducts</th>\n",
       "      <th>HasCrCard</th>\n",
       "      <th>IsActiveMember</th>\n",
       "      <th>EstimatedSalary</th>\n",
       "      <th>Exited</th>\n",
       "    </tr>\n",
       "  </thead>\n",
       "  <tbody>\n",
       "    <tr>\n",
       "      <th>count</th>\n",
       "      <td>152370.000000</td>\n",
       "      <td>152370.000000</td>\n",
       "      <td>152370.000000</td>\n",
       "      <td>152370.000000</td>\n",
       "      <td>152370.000000</td>\n",
       "      <td>152370.00000</td>\n",
       "      <td>152370.000000</td>\n",
       "      <td>152370.000000</td>\n",
       "      <td>152370.000000</td>\n",
       "    </tr>\n",
       "    <tr>\n",
       "      <th>mean</th>\n",
       "      <td>656.360858</td>\n",
       "      <td>38.086894</td>\n",
       "      <td>5.021067</td>\n",
       "      <td>50093.694145</td>\n",
       "      <td>1.573105</td>\n",
       "      <td>0.75488</td>\n",
       "      <td>0.497545</td>\n",
       "      <td>113774.744753</td>\n",
       "      <td>0.208742</td>\n",
       "    </tr>\n",
       "    <tr>\n",
       "      <th>std</th>\n",
       "      <td>79.733850</td>\n",
       "      <td>8.843680</td>\n",
       "      <td>2.802904</td>\n",
       "      <td>61330.845002</td>\n",
       "      <td>0.544065</td>\n",
       "      <td>0.43016</td>\n",
       "      <td>0.499996</td>\n",
       "      <td>49426.267554</td>\n",
       "      <td>0.406411</td>\n",
       "    </tr>\n",
       "    <tr>\n",
       "      <th>min</th>\n",
       "      <td>350.000000</td>\n",
       "      <td>18.000000</td>\n",
       "      <td>0.000000</td>\n",
       "      <td>0.000000</td>\n",
       "      <td>1.000000</td>\n",
       "      <td>0.00000</td>\n",
       "      <td>0.000000</td>\n",
       "      <td>11.580000</td>\n",
       "      <td>0.000000</td>\n",
       "    </tr>\n",
       "    <tr>\n",
       "      <th>25%</th>\n",
       "      <td>598.000000</td>\n",
       "      <td>32.000000</td>\n",
       "      <td>3.000000</td>\n",
       "      <td>0.000000</td>\n",
       "      <td>1.000000</td>\n",
       "      <td>1.00000</td>\n",
       "      <td>0.000000</td>\n",
       "      <td>76615.380000</td>\n",
       "      <td>0.000000</td>\n",
       "    </tr>\n",
       "    <tr>\n",
       "      <th>50%</th>\n",
       "      <td>659.000000</td>\n",
       "      <td>37.000000</td>\n",
       "      <td>5.000000</td>\n",
       "      <td>0.000000</td>\n",
       "      <td>2.000000</td>\n",
       "      <td>1.00000</td>\n",
       "      <td>0.000000</td>\n",
       "      <td>120107.100000</td>\n",
       "      <td>0.000000</td>\n",
       "    </tr>\n",
       "    <tr>\n",
       "      <th>75%</th>\n",
       "      <td>710.000000</td>\n",
       "      <td>42.000000</td>\n",
       "      <td>7.000000</td>\n",
       "      <td>117020.080000</td>\n",
       "      <td>2.000000</td>\n",
       "      <td>1.00000</td>\n",
       "      <td>1.000000</td>\n",
       "      <td>155853.955000</td>\n",
       "      <td>0.000000</td>\n",
       "    </tr>\n",
       "    <tr>\n",
       "      <th>max</th>\n",
       "      <td>850.000000</td>\n",
       "      <td>92.000000</td>\n",
       "      <td>10.000000</td>\n",
       "      <td>238387.560000</td>\n",
       "      <td>4.000000</td>\n",
       "      <td>1.00000</td>\n",
       "      <td>1.000000</td>\n",
       "      <td>199992.480000</td>\n",
       "      <td>1.000000</td>\n",
       "    </tr>\n",
       "  </tbody>\n",
       "</table>\n",
       "</div>"
      ],
      "text/plain": [
       "         CreditScore            Age         Tenure        Balance  \\\n",
       "count  152370.000000  152370.000000  152370.000000  152370.000000   \n",
       "mean      656.360858      38.086894       5.021067   50093.694145   \n",
       "std        79.733850       8.843680       2.802904   61330.845002   \n",
       "min       350.000000      18.000000       0.000000       0.000000   \n",
       "25%       598.000000      32.000000       3.000000       0.000000   \n",
       "50%       659.000000      37.000000       5.000000       0.000000   \n",
       "75%       710.000000      42.000000       7.000000  117020.080000   \n",
       "max       850.000000      92.000000      10.000000  238387.560000   \n",
       "\n",
       "       NumOfProducts     HasCrCard  IsActiveMember  EstimatedSalary  \\\n",
       "count  152370.000000  152370.00000   152370.000000    152370.000000   \n",
       "mean        1.573105       0.75488        0.497545    113774.744753   \n",
       "std         0.544065       0.43016        0.499996     49426.267554   \n",
       "min         1.000000       0.00000        0.000000        11.580000   \n",
       "25%         1.000000       1.00000        0.000000     76615.380000   \n",
       "50%         2.000000       1.00000        0.000000    120107.100000   \n",
       "75%         2.000000       1.00000        1.000000    155853.955000   \n",
       "max         4.000000       1.00000        1.000000    199992.480000   \n",
       "\n",
       "              Exited  \n",
       "count  152370.000000  \n",
       "mean        0.208742  \n",
       "std         0.406411  \n",
       "min         0.000000  \n",
       "25%         0.000000  \n",
       "50%         0.000000  \n",
       "75%         0.000000  \n",
       "max         1.000000  "
      ]
     },
     "execution_count": 40,
     "metadata": {},
     "output_type": "execute_result"
    }
   ],
   "source": [
    "df_knn.describe()"
   ]
  },
  {
   "cell_type": "code",
   "execution_count": 41,
   "id": "a2490ed8",
   "metadata": {},
   "outputs": [
    {
     "data": {
      "text/plain": [
       "<AxesSubplot:>"
      ]
     },
     "execution_count": 41,
     "metadata": {},
     "output_type": "execute_result"
    },
    {
     "data": {
      "image/png": "[encoded data removed]",
      "text/plain": [
       "<Figure size 1080x360 with 1 Axes>"
      ]
     },
     "metadata": {
      "needs_background": "light"
     },
     "output_type": "display_data"
    }
   ],
   "source": [
    "df_knn.boxplot(figsize=(15,5))"
   ]
  },
  {
   "cell_type": "code",
   "execution_count": 42,
   "id": "4345bf5c",
   "metadata": {},
   "outputs": [
    {
     "data": {
      "text/plain": [
       "array([[<AxesSubplot:title={'center':'CreditScore'}>,\n",
       "        <AxesSubplot:title={'center':'Age'}>,\n",
       "        <AxesSubplot:title={'center':'Tenure'}>],\n",
       "       [<AxesSubplot:title={'center':'Balance'}>,\n",
       "        <AxesSubplot:title={'center':'NumOfProducts'}>,\n",
       "        <AxesSubplot:title={'center':'HasCrCard'}>],\n",
       "       [<AxesSubplot:title={'center':'IsActiveMember'}>,\n",
       "        <AxesSubplot:title={'center':'EstimatedSalary'}>,\n",
       "        <AxesSubplot:title={'center':'Exited'}>]], dtype=object)"
      ]
     },
     "execution_count": 42,
     "metadata": {},
     "output_type": "execute_result"
    },
    {
     "data": {
      "image/png": "[encoded data removed]",
      "text/plain": [
       "<Figure size 1440x720 with 9 Axes>"
      ]
     },
     "metadata": {
      "needs_background": "light"
     },
     "output_type": "display_data"
    }
   ],
   "source": [
    "df_knn.hist(figsize=(20,10))"
   ]
  },
  {
   "cell_type": "code",
   "execution_count": 43,
   "id": "0b06e1fe",
   "metadata": {},
   "outputs": [],
   "source": [
    "df_train= df_train[df_train['Age']<58].reset_index(drop=True)\n",
    "df_test= df_test[df_test['Age']<58].reset_index(drop=True)"
   ]
  },
  {
   "cell_type": "code",
   "execution_count": 44,
   "id": "ac40a967",
   "metadata": {},
   "outputs": [
    {
     "data": {
      "text/html": [
       "<div>\n",
       "<style scoped>\n",
       "    .dataframe tbody tr th:only-of-type {\n",
       "        vertical-align: middle;\n",
       "    }\n",
       "\n",
       "    .dataframe tbody tr th {\n",
       "        vertical-align: top;\n",
       "    }\n",
       "\n",
       "    .dataframe thead th {\n",
       "        text-align: right;\n",
       "    }\n",
       "</style>\n",
       "<table border=\"1\" class=\"dataframe\">\n",
       "  <thead>\n",
       "    <tr style=\"text-align: right;\">\n",
       "      <th></th>\n",
       "      <th>CreditScore</th>\n",
       "      <th>Geography</th>\n",
       "      <th>Gender</th>\n",
       "      <th>Age</th>\n",
       "      <th>Tenure</th>\n",
       "      <th>Balance</th>\n",
       "      <th>NumOfProducts</th>\n",
       "      <th>HasCrCard</th>\n",
       "      <th>IsActiveMember</th>\n",
       "      <th>EstimatedSalary</th>\n",
       "      <th>Exited</th>\n",
       "    </tr>\n",
       "  </thead>\n",
       "  <tbody>\n",
       "    <tr>\n",
       "      <th>0</th>\n",
       "      <td>668</td>\n",
       "      <td>France</td>\n",
       "      <td>Male</td>\n",
       "      <td>33</td>\n",
       "      <td>3</td>\n",
       "      <td>0.00</td>\n",
       "      <td>2</td>\n",
       "      <td>1</td>\n",
       "      <td>0</td>\n",
       "      <td>181449.97</td>\n",
       "      <td>0</td>\n",
       "    </tr>\n",
       "    <tr>\n",
       "      <th>1</th>\n",
       "      <td>627</td>\n",
       "      <td>France</td>\n",
       "      <td>Male</td>\n",
       "      <td>33</td>\n",
       "      <td>1</td>\n",
       "      <td>0.00</td>\n",
       "      <td>2</td>\n",
       "      <td>1</td>\n",
       "      <td>1</td>\n",
       "      <td>49503.50</td>\n",
       "      <td>0</td>\n",
       "    </tr>\n",
       "    <tr>\n",
       "      <th>2</th>\n",
       "      <td>678</td>\n",
       "      <td>France</td>\n",
       "      <td>Male</td>\n",
       "      <td>40</td>\n",
       "      <td>10</td>\n",
       "      <td>0.00</td>\n",
       "      <td>2</td>\n",
       "      <td>1</td>\n",
       "      <td>0</td>\n",
       "      <td>184866.69</td>\n",
       "      <td>0</td>\n",
       "    </tr>\n",
       "    <tr>\n",
       "      <th>3</th>\n",
       "      <td>581</td>\n",
       "      <td>France</td>\n",
       "      <td>Male</td>\n",
       "      <td>34</td>\n",
       "      <td>2</td>\n",
       "      <td>148882.54</td>\n",
       "      <td>1</td>\n",
       "      <td>1</td>\n",
       "      <td>1</td>\n",
       "      <td>84560.88</td>\n",
       "      <td>0</td>\n",
       "    </tr>\n",
       "    <tr>\n",
       "      <th>4</th>\n",
       "      <td>716</td>\n",
       "      <td>Spain</td>\n",
       "      <td>Male</td>\n",
       "      <td>33</td>\n",
       "      <td>5</td>\n",
       "      <td>0.00</td>\n",
       "      <td>2</td>\n",
       "      <td>1</td>\n",
       "      <td>1</td>\n",
       "      <td>15068.83</td>\n",
       "      <td>0</td>\n",
       "    </tr>\n",
       "    <tr>\n",
       "      <th>...</th>\n",
       "      <td>...</td>\n",
       "      <td>...</td>\n",
       "      <td>...</td>\n",
       "      <td>...</td>\n",
       "      <td>...</td>\n",
       "      <td>...</td>\n",
       "      <td>...</td>\n",
       "      <td>...</td>\n",
       "      <td>...</td>\n",
       "      <td>...</td>\n",
       "      <td>...</td>\n",
       "    </tr>\n",
       "    <tr>\n",
       "      <th>158635</th>\n",
       "      <td>667</td>\n",
       "      <td>Spain</td>\n",
       "      <td>Female</td>\n",
       "      <td>33</td>\n",
       "      <td>2</td>\n",
       "      <td>0.00</td>\n",
       "      <td>1</td>\n",
       "      <td>1</td>\n",
       "      <td>1</td>\n",
       "      <td>131834.75</td>\n",
       "      <td>0</td>\n",
       "    </tr>\n",
       "    <tr>\n",
       "      <th>158636</th>\n",
       "      <td>792</td>\n",
       "      <td>France</td>\n",
       "      <td>Male</td>\n",
       "      <td>35</td>\n",
       "      <td>3</td>\n",
       "      <td>0.00</td>\n",
       "      <td>1</td>\n",
       "      <td>0</td>\n",
       "      <td>0</td>\n",
       "      <td>131834.45</td>\n",
       "      <td>0</td>\n",
       "    </tr>\n",
       "    <tr>\n",
       "      <th>158637</th>\n",
       "      <td>565</td>\n",
       "      <td>France</td>\n",
       "      <td>Male</td>\n",
       "      <td>31</td>\n",
       "      <td>5</td>\n",
       "      <td>0.00</td>\n",
       "      <td>1</td>\n",
       "      <td>1</td>\n",
       "      <td>1</td>\n",
       "      <td>127429.56</td>\n",
       "      <td>0</td>\n",
       "    </tr>\n",
       "    <tr>\n",
       "      <th>158638</th>\n",
       "      <td>554</td>\n",
       "      <td>Spain</td>\n",
       "      <td>Female</td>\n",
       "      <td>30</td>\n",
       "      <td>7</td>\n",
       "      <td>161533.00</td>\n",
       "      <td>1</td>\n",
       "      <td>0</td>\n",
       "      <td>1</td>\n",
       "      <td>71173.03</td>\n",
       "      <td>0</td>\n",
       "    </tr>\n",
       "    <tr>\n",
       "      <th>158639</th>\n",
       "      <td>850</td>\n",
       "      <td>France</td>\n",
       "      <td>Male</td>\n",
       "      <td>31</td>\n",
       "      <td>1</td>\n",
       "      <td>0.00</td>\n",
       "      <td>1</td>\n",
       "      <td>1</td>\n",
       "      <td>0</td>\n",
       "      <td>61581.79</td>\n",
       "      <td>1</td>\n",
       "    </tr>\n",
       "  </tbody>\n",
       "</table>\n",
       "<p>158640 rows × 11 columns</p>\n",
       "</div>"
      ],
      "text/plain": [
       "        CreditScore Geography  Gender  Age  Tenure    Balance  NumOfProducts  \\\n",
       "0               668    France    Male   33       3       0.00              2   \n",
       "1               627    France    Male   33       1       0.00              2   \n",
       "2               678    France    Male   40      10       0.00              2   \n",
       "3               581    France    Male   34       2  148882.54              1   \n",
       "4               716     Spain    Male   33       5       0.00              2   \n",
       "...             ...       ...     ...  ...     ...        ...            ...   \n",
       "158635          667     Spain  Female   33       2       0.00              1   \n",
       "158636          792    France    Male   35       3       0.00              1   \n",
       "158637          565    France    Male   31       5       0.00              1   \n",
       "158638          554     Spain  Female   30       7  161533.00              1   \n",
       "158639          850    France    Male   31       1       0.00              1   \n",
       "\n",
       "        HasCrCard  IsActiveMember  EstimatedSalary  Exited  \n",
       "0               1               0        181449.97       0  \n",
       "1               1               1         49503.50       0  \n",
       "2               1               0        184866.69       0  \n",
       "3               1               1         84560.88       0  \n",
       "4               1               1         15068.83       0  \n",
       "...           ...             ...              ...     ...  \n",
       "158635          1               1        131834.75       0  \n",
       "158636          0               0        131834.45       0  \n",
       "158637          1               1        127429.56       0  \n",
       "158638          0               1         71173.03       0  \n",
       "158639          1               0         61581.79       1  \n",
       "\n",
       "[158640 rows x 11 columns]"
      ]
     },
     "execution_count": 44,
     "metadata": {},
     "output_type": "execute_result"
    }
   ],
   "source": [
    "df_train"
   ]
  },
  {
   "cell_type": "code",
   "execution_count": 45,
   "id": "d3e41b97",
   "metadata": {},
   "outputs": [],
   "source": [
    "df_train= df_train[df_train['CreditScore']>427].reset_index(drop=True)\n",
    "df_test= df_test[df_test['CreditScore']>427].reset_index(drop=True)"
   ]
  },
  {
   "cell_type": "code",
   "execution_count": 46,
   "id": "51f6cc11",
   "metadata": {},
   "outputs": [
    {
     "data": {
      "text/html": [
       "<div>\n",
       "<style scoped>\n",
       "    .dataframe tbody tr th:only-of-type {\n",
       "        vertical-align: middle;\n",
       "    }\n",
       "\n",
       "    .dataframe tbody tr th {\n",
       "        vertical-align: top;\n",
       "    }\n",
       "\n",
       "    .dataframe thead th {\n",
       "        text-align: right;\n",
       "    }\n",
       "</style>\n",
       "<table border=\"1\" class=\"dataframe\">\n",
       "  <thead>\n",
       "    <tr style=\"text-align: right;\">\n",
       "      <th></th>\n",
       "      <th>CreditScore</th>\n",
       "      <th>Geography</th>\n",
       "      <th>Gender</th>\n",
       "      <th>Age</th>\n",
       "      <th>Tenure</th>\n",
       "      <th>Balance</th>\n",
       "      <th>NumOfProducts</th>\n",
       "      <th>HasCrCard</th>\n",
       "      <th>IsActiveMember</th>\n",
       "      <th>EstimatedSalary</th>\n",
       "      <th>Exited</th>\n",
       "    </tr>\n",
       "  </thead>\n",
       "  <tbody>\n",
       "    <tr>\n",
       "      <th>0</th>\n",
       "      <td>668</td>\n",
       "      <td>France</td>\n",
       "      <td>Male</td>\n",
       "      <td>33</td>\n",
       "      <td>3</td>\n",
       "      <td>0.00</td>\n",
       "      <td>2</td>\n",
       "      <td>1</td>\n",
       "      <td>0</td>\n",
       "      <td>181449.97</td>\n",
       "      <td>0</td>\n",
       "    </tr>\n",
       "    <tr>\n",
       "      <th>1</th>\n",
       "      <td>627</td>\n",
       "      <td>France</td>\n",
       "      <td>Male</td>\n",
       "      <td>33</td>\n",
       "      <td>1</td>\n",
       "      <td>0.00</td>\n",
       "      <td>2</td>\n",
       "      <td>1</td>\n",
       "      <td>1</td>\n",
       "      <td>49503.50</td>\n",
       "      <td>0</td>\n",
       "    </tr>\n",
       "    <tr>\n",
       "      <th>2</th>\n",
       "      <td>678</td>\n",
       "      <td>France</td>\n",
       "      <td>Male</td>\n",
       "      <td>40</td>\n",
       "      <td>10</td>\n",
       "      <td>0.00</td>\n",
       "      <td>2</td>\n",
       "      <td>1</td>\n",
       "      <td>0</td>\n",
       "      <td>184866.69</td>\n",
       "      <td>0</td>\n",
       "    </tr>\n",
       "    <tr>\n",
       "      <th>3</th>\n",
       "      <td>581</td>\n",
       "      <td>France</td>\n",
       "      <td>Male</td>\n",
       "      <td>34</td>\n",
       "      <td>2</td>\n",
       "      <td>148882.54</td>\n",
       "      <td>1</td>\n",
       "      <td>1</td>\n",
       "      <td>1</td>\n",
       "      <td>84560.88</td>\n",
       "      <td>0</td>\n",
       "    </tr>\n",
       "    <tr>\n",
       "      <th>4</th>\n",
       "      <td>716</td>\n",
       "      <td>Spain</td>\n",
       "      <td>Male</td>\n",
       "      <td>33</td>\n",
       "      <td>5</td>\n",
       "      <td>0.00</td>\n",
       "      <td>2</td>\n",
       "      <td>1</td>\n",
       "      <td>1</td>\n",
       "      <td>15068.83</td>\n",
       "      <td>0</td>\n",
       "    </tr>\n",
       "    <tr>\n",
       "      <th>...</th>\n",
       "      <td>...</td>\n",
       "      <td>...</td>\n",
       "      <td>...</td>\n",
       "      <td>...</td>\n",
       "      <td>...</td>\n",
       "      <td>...</td>\n",
       "      <td>...</td>\n",
       "      <td>...</td>\n",
       "      <td>...</td>\n",
       "      <td>...</td>\n",
       "      <td>...</td>\n",
       "    </tr>\n",
       "    <tr>\n",
       "      <th>158395</th>\n",
       "      <td>667</td>\n",
       "      <td>Spain</td>\n",
       "      <td>Female</td>\n",
       "      <td>33</td>\n",
       "      <td>2</td>\n",
       "      <td>0.00</td>\n",
       "      <td>1</td>\n",
       "      <td>1</td>\n",
       "      <td>1</td>\n",
       "      <td>131834.75</td>\n",
       "      <td>0</td>\n",
       "    </tr>\n",
       "    <tr>\n",
       "      <th>158396</th>\n",
       "      <td>792</td>\n",
       "      <td>France</td>\n",
       "      <td>Male</td>\n",
       "      <td>35</td>\n",
       "      <td>3</td>\n",
       "      <td>0.00</td>\n",
       "      <td>1</td>\n",
       "      <td>0</td>\n",
       "      <td>0</td>\n",
       "      <td>131834.45</td>\n",
       "      <td>0</td>\n",
       "    </tr>\n",
       "    <tr>\n",
       "      <th>158397</th>\n",
       "      <td>565</td>\n",
       "      <td>France</td>\n",
       "      <td>Male</td>\n",
       "      <td>31</td>\n",
       "      <td>5</td>\n",
       "      <td>0.00</td>\n",
       "      <td>1</td>\n",
       "      <td>1</td>\n",
       "      <td>1</td>\n",
       "      <td>127429.56</td>\n",
       "      <td>0</td>\n",
       "    </tr>\n",
       "    <tr>\n",
       "      <th>158398</th>\n",
       "      <td>554</td>\n",
       "      <td>Spain</td>\n",
       "      <td>Female</td>\n",
       "      <td>30</td>\n",
       "      <td>7</td>\n",
       "      <td>161533.00</td>\n",
       "      <td>1</td>\n",
       "      <td>0</td>\n",
       "      <td>1</td>\n",
       "      <td>71173.03</td>\n",
       "      <td>0</td>\n",
       "    </tr>\n",
       "    <tr>\n",
       "      <th>158399</th>\n",
       "      <td>850</td>\n",
       "      <td>France</td>\n",
       "      <td>Male</td>\n",
       "      <td>31</td>\n",
       "      <td>1</td>\n",
       "      <td>0.00</td>\n",
       "      <td>1</td>\n",
       "      <td>1</td>\n",
       "      <td>0</td>\n",
       "      <td>61581.79</td>\n",
       "      <td>1</td>\n",
       "    </tr>\n",
       "  </tbody>\n",
       "</table>\n",
       "<p>158400 rows × 11 columns</p>\n",
       "</div>"
      ],
      "text/plain": [
       "        CreditScore Geography  Gender  Age  Tenure    Balance  NumOfProducts  \\\n",
       "0               668    France    Male   33       3       0.00              2   \n",
       "1               627    France    Male   33       1       0.00              2   \n",
       "2               678    France    Male   40      10       0.00              2   \n",
       "3               581    France    Male   34       2  148882.54              1   \n",
       "4               716     Spain    Male   33       5       0.00              2   \n",
       "...             ...       ...     ...  ...     ...        ...            ...   \n",
       "158395          667     Spain  Female   33       2       0.00              1   \n",
       "158396          792    France    Male   35       3       0.00              1   \n",
       "158397          565    France    Male   31       5       0.00              1   \n",
       "158398          554     Spain  Female   30       7  161533.00              1   \n",
       "158399          850    France    Male   31       1       0.00              1   \n",
       "\n",
       "        HasCrCard  IsActiveMember  EstimatedSalary  Exited  \n",
       "0               1               0        181449.97       0  \n",
       "1               1               1         49503.50       0  \n",
       "2               1               0        184866.69       0  \n",
       "3               1               1         84560.88       0  \n",
       "4               1               1         15068.83       0  \n",
       "...           ...             ...              ...     ...  \n",
       "158395          1               1        131834.75       0  \n",
       "158396          0               0        131834.45       0  \n",
       "158397          1               1        127429.56       0  \n",
       "158398          0               1         71173.03       0  \n",
       "158399          1               0         61581.79       1  \n",
       "\n",
       "[158400 rows x 11 columns]"
      ]
     },
     "execution_count": 46,
     "metadata": {},
     "output_type": "execute_result"
    }
   ],
   "source": [
    "df_train"
   ]
  },
  {
   "cell_type": "code",
   "execution_count": 47,
   "id": "cdc826a3",
   "metadata": {},
   "outputs": [
    {
     "data": {
      "text/plain": [
       "0    0.79536\n",
       "1    0.20464\n",
       "Name: Exited, dtype: float64"
      ]
     },
     "execution_count": 47,
     "metadata": {},
     "output_type": "execute_result"
    }
   ],
   "source": [
    "df_train['Exited'].value_counts(normalize=True)"
   ]
  },
  {
   "cell_type": "code",
   "execution_count": 48,
   "id": "063d5521",
   "metadata": {},
   "outputs": [
    {
     "data": {
      "text/plain": [
       "<AxesSubplot:xlabel='Exited', ylabel='count'>"
      ]
     },
     "execution_count": 48,
     "metadata": {},
     "output_type": "execute_result"
    },
    {
     "data": {
      "image/png": "[encoded data removed]",
      "text/plain": [
       "<Figure size 432x288 with 1 Axes>"
      ]
     },
     "metadata": {
      "needs_background": "light"
     },
     "output_type": "display_data"
    }
   ],
   "source": [
    "sns.countplot(x=df_train['Exited'])"
   ]
  },
  {
   "cell_type": "code",
   "execution_count": 49,
   "id": "46a51f98",
   "metadata": {},
   "outputs": [
    {
     "data": {
      "text/plain": [
       "[<AxesSubplot:ylabel='Geography'>, <AxesSubplot:ylabel='Gender'>]"
      ]
     },
     "execution_count": 49,
     "metadata": {},
     "output_type": "execute_result"
    },
    {
     "data": {
      "image/png": "[encoded data removed]",
      "text/plain": [
       "<Figure size 432x288 with 1 Axes>"
      ]
     },
     "metadata": {
      "needs_background": "light"
     },
     "output_type": "display_data"
    },
    {
     "data": {
      "image/png": "[encoded data removed]",
      "text/plain": [
       "<Figure size 432x288 with 1 Axes>"
      ]
     },
     "metadata": {
      "needs_background": "light"
     },
     "output_type": "display_data"
    }
   ],
   "source": [
    "analisis_bi_multi.contingency(df_train,df_train['Exited'])"
   ]
  },
  {
   "cell_type": "code",
   "execution_count": 50,
   "id": "ec855cbb",
   "metadata": {},
   "outputs": [
    {
     "data": {
      "text/plain": [
       "France     90658\n",
       "Spain      34721\n",
       "Germany    33021\n",
       "Name: Geography, dtype: int64"
      ]
     },
     "execution_count": 50,
     "metadata": {},
     "output_type": "execute_result"
    }
   ],
   "source": [
    "df_train['Geography'].value_counts()"
   ]
  },
  {
   "cell_type": "code",
   "execution_count": 51,
   "id": "e2a68151",
   "metadata": {},
   "outputs": [
    {
     "data": {
      "text/plain": [
       "Male      89662\n",
       "Female    68738\n",
       "Name: Gender, dtype: int64"
      ]
     },
     "execution_count": 51,
     "metadata": {},
     "output_type": "execute_result"
    }
   ],
   "source": [
    "df_train['Gender'].value_counts()"
   ]
  },
  {
   "cell_type": "code",
   "execution_count": 52,
   "id": "6ec8f4c1",
   "metadata": {},
   "outputs": [],
   "source": [
    "df_train= limpieza.categorize(df_train)\n",
    "df_test= limpieza.categorize(df_test)"
   ]
  },
  {
   "cell_type": "code",
   "execution_count": 53,
   "id": "67b7434e",
   "metadata": {},
   "outputs": [
    {
     "data": {
      "text/plain": [
       "0    90658\n",
       "1    34721\n",
       "2    33021\n",
       "Name: Geography, dtype: int64"
      ]
     },
     "execution_count": 53,
     "metadata": {},
     "output_type": "execute_result"
    }
   ],
   "source": [
    "df_train['Geography'].value_counts()"
   ]
  },
  {
   "cell_type": "code",
   "execution_count": 54,
   "id": "301ba6b0",
   "metadata": {},
   "outputs": [
    {
     "data": {
      "text/plain": [
       "0    89662\n",
       "1    68738\n",
       "Name: Gender, dtype: int64"
      ]
     },
     "execution_count": 54,
     "metadata": {},
     "output_type": "execute_result"
    }
   ],
   "source": [
    "df_train['Gender'].value_counts()"
   ]
  },
  {
   "cell_type": "code",
   "execution_count": 55,
   "id": "058d5af0",
   "metadata": {},
   "outputs": [
    {
     "data": {
      "text/plain": [
       "<AxesSubplot:xlabel='Gender'>"
      ]
     },
     "execution_count": 55,
     "metadata": {},
     "output_type": "execute_result"
    },
    {
     "data": {
      "image/png": "[encoded data removed]",
      "text/plain": [
       "<Figure size 432x288 with 1 Axes>"
      ]
     },
     "metadata": {
      "needs_background": "light"
     },
     "output_type": "display_data"
    }
   ],
   "source": [
    "df_train.groupby(['Gender','Geography']).size().unstack().plot(kind='bar',stacked=False)"
   ]
  },
  {
   "cell_type": "markdown",
   "id": "49c51c04",
   "metadata": {},
   "source": [
    "## Variable Selection"
   ]
  },
  {
   "cell_type": "code",
   "execution_count": 56,
   "id": "f6c988db",
   "metadata": {},
   "outputs": [
    {
     "data": {
      "text/plain": [
       "<AxesSubplot:>"
      ]
     },
     "execution_count": 56,
     "metadata": {},
     "output_type": "execute_result"
    },
    {
     "data": {
      "image/png": "[encoded data removed]",
      "text/plain": [
       "<Figure size 1800x720 with 2 Axes>"
      ]
     },
     "metadata": {
      "needs_background": "light"
     },
     "output_type": "display_data"
    }
   ],
   "source": [
    "correlation= df_train.astype('int64').corr(method='spearman')\n",
    "plt.figure(figsize=(25,10))\n",
    "sns.heatmap(correlation, annot=True, cmap= 'YlGnBu')"
   ]
  },
  {
   "cell_type": "code",
   "execution_count": 57,
   "id": "26ae822c",
   "metadata": {},
   "outputs": [
    {
     "data": {
      "text/html": [
       "<div>\n",
       "<style scoped>\n",
       "    .dataframe tbody tr th:only-of-type {\n",
       "        vertical-align: middle;\n",
       "    }\n",
       "\n",
       "    .dataframe tbody tr th {\n",
       "        vertical-align: top;\n",
       "    }\n",
       "\n",
       "    .dataframe thead th {\n",
       "        text-align: right;\n",
       "    }\n",
       "</style>\n",
       "<table border=\"1\" class=\"dataframe\">\n",
       "  <thead>\n",
       "    <tr style=\"text-align: right;\">\n",
       "      <th></th>\n",
       "      <th>Correlation</th>\n",
       "      <th>P-Value</th>\n",
       "    </tr>\n",
       "  </thead>\n",
       "  <tbody>\n",
       "    <tr>\n",
       "      <th>CreditScore</th>\n",
       "      <td>-0.028786</td>\n",
       "      <td>2.123955e-30</td>\n",
       "    </tr>\n",
       "    <tr>\n",
       "      <th>Geography</th>\n",
       "      <td>0.169558</td>\n",
       "      <td>0.000000e+00</td>\n",
       "    </tr>\n",
       "    <tr>\n",
       "      <th>Gender</th>\n",
       "      <td>0.144936</td>\n",
       "      <td>0.000000e+00</td>\n",
       "    </tr>\n",
       "    <tr>\n",
       "      <th>Age</th>\n",
       "      <td>0.358363</td>\n",
       "      <td>0.000000e+00</td>\n",
       "    </tr>\n",
       "    <tr>\n",
       "      <th>Tenure</th>\n",
       "      <td>-0.018776</td>\n",
       "      <td>7.822586e-14</td>\n",
       "    </tr>\n",
       "    <tr>\n",
       "      <th>Balance</th>\n",
       "      <td>0.125292</td>\n",
       "      <td>0.000000e+00</td>\n",
       "    </tr>\n",
       "    <tr>\n",
       "      <th>NumOfProducts</th>\n",
       "      <td>-0.265255</td>\n",
       "      <td>0.000000e+00</td>\n",
       "    </tr>\n",
       "    <tr>\n",
       "      <th>HasCrCard</th>\n",
       "      <td>-0.021961</td>\n",
       "      <td>2.304875e-18</td>\n",
       "    </tr>\n",
       "    <tr>\n",
       "      <th>IsActiveMember</th>\n",
       "      <td>-0.206161</td>\n",
       "      <td>0.000000e+00</td>\n",
       "    </tr>\n",
       "    <tr>\n",
       "      <th>EstimatedSalary</th>\n",
       "      <td>0.019803</td>\n",
       "      <td>3.219586e-15</td>\n",
       "    </tr>\n",
       "  </tbody>\n",
       "</table>\n",
       "</div>"
      ],
      "text/plain": [
       "                 Correlation       P-Value\n",
       "CreditScore        -0.028786  2.123955e-30\n",
       "Geography           0.169558  0.000000e+00\n",
       "Gender              0.144936  0.000000e+00\n",
       "Age                 0.358363  0.000000e+00\n",
       "Tenure             -0.018776  7.822586e-14\n",
       "Balance             0.125292  0.000000e+00\n",
       "NumOfProducts      -0.265255  0.000000e+00\n",
       "HasCrCard          -0.021961  2.304875e-18\n",
       "IsActiveMember     -0.206161  0.000000e+00\n",
       "EstimatedSalary     0.019803  3.219586e-15"
      ]
     },
     "execution_count": 57,
     "metadata": {},
     "output_type": "execute_result"
    }
   ],
   "source": [
    "analisis_bi_multi.correlation(df_train,'Exited')"
   ]
  },
  {
   "cell_type": "code",
   "execution_count": 58,
   "id": "b2829095",
   "metadata": {},
   "outputs": [
    {
     "data": {
      "text/plain": [
       "{'CreditScore': <class 'statsmodels.stats.contrast.WaldTestResults'>\n",
       "                             F                      P>F  df constraint  df denom\n",
       " const    [[1221.49789153734]]  1.3564678311196269e-266              1  158398.0\n",
       " x      [[116.23463821088713]]    4.315160289737931e-27              1  158398.0,\n",
       " 'Geography': <class 'statsmodels.stats.contrast.WaldTestResults'>\n",
       "                            F  P>F  df constraint  df denom\n",
       " const  [[13147.80349315168]]  0.0              1  158398.0\n",
       " x      [[5636.621761107505]]  0.0              1  158398.0,\n",
       " 'Gender': <class 'statsmodels.stats.contrast.WaldTestResults'>\n",
       "                             F  P>F  df constraint  df denom\n",
       " const  [[13248.365497430186]]  0.0              1  158398.0\n",
       " x      [[3398.7529927403843]]  0.0              1  158398.0,\n",
       " 'Age': <class 'statsmodels.stats.contrast.WaldTestResults'>\n",
       "                             F  P>F  df constraint  df denom\n",
       " const  [[13813.161317156811]]  0.0              1  158398.0\n",
       " x       [[26613.15550313299]]  0.0              1  158398.0,\n",
       " 'Tenure': <class 'statsmodels.stats.contrast.WaldTestResults'>\n",
       "                             F                    P>F  df constraint  df denom\n",
       " const  [[11027.779577327645]]                    0.0              1  158398.0\n",
       " x      [[57.395399206033794]]  3.583621116335959e-14              1  158398.0,\n",
       " 'Balance': <class 'statsmodels.stats.contrast.WaldTestResults'>\n",
       "                             F  P>F  df constraint  df denom\n",
       " const   [[14079.56631263415]]  0.0              1  158398.0\n",
       " x      [[2666.6544341319527]]  0.0              1  158398.0,\n",
       " 'NumOfProducts': <class 'statsmodels.stats.contrast.WaldTestResults'>\n",
       "                             F  P>F  df constraint  df denom\n",
       " const  [[22750.525662873835]]  0.0              1  158398.0\n",
       " x       [[7651.801227095916]]  0.0              1  158398.0,\n",
       " 'HasCrCard': <class 'statsmodels.stats.contrast.WaldTestResults'>\n",
       "                            F                   P>F  df constraint  df denom\n",
       " const  [[11586.13899714381]]                   0.0              1  158398.0\n",
       " x      [[76.42862017569776]]  2.30487485189054e-18              1  158398.0,\n",
       " 'IsActiveMember': <class 'statsmodels.stats.contrast.WaldTestResults'>\n",
       "                            F  P>F  df constraint  df denom\n",
       " const  [[42459.90057884286]]  0.0              1  158398.0\n",
       " x      [[7031.115323406072]]  0.0              1  158398.0,\n",
       " 'EstimatedSalary': <class 'statsmodels.stats.contrast.WaldTestResults'>\n",
       "                            F                     P>F  df constraint  df denom\n",
       " const  [[5684.273273498826]]                     0.0              1  158398.0\n",
       " x      [[54.61559196378043]]  1.4728482154066895e-13              1  158398.0}"
      ]
     },
     "execution_count": 58,
     "metadata": {},
     "output_type": "execute_result"
    }
   ],
   "source": [
    "analisis_bi_multi.olstest(df_train,'Exited')"
   ]
  },
  {
   "cell_type": "code",
   "execution_count": 59,
   "id": "2672716e",
   "metadata": {},
   "outputs": [
    {
     "data": {
      "text/html": [
       "<div>\n",
       "<style scoped>\n",
       "    .dataframe tbody tr th:only-of-type {\n",
       "        vertical-align: middle;\n",
       "    }\n",
       "\n",
       "    .dataframe tbody tr th {\n",
       "        vertical-align: top;\n",
       "    }\n",
       "\n",
       "    .dataframe thead th {\n",
       "        text-align: right;\n",
       "    }\n",
       "</style>\n",
       "<table border=\"1\" class=\"dataframe\">\n",
       "  <thead>\n",
       "    <tr style=\"text-align: right;\">\n",
       "      <th></th>\n",
       "      <th>Cluster</th>\n",
       "      <th>Variable</th>\n",
       "      <th>RS_Own</th>\n",
       "      <th>RS_NC</th>\n",
       "      <th>RS_Ratio</th>\n",
       "    </tr>\n",
       "  </thead>\n",
       "  <tbody>\n",
       "    <tr>\n",
       "      <th>0</th>\n",
       "      <td>0</td>\n",
       "      <td>Geography</td>\n",
       "      <td>0.738246</td>\n",
       "      <td>0.029628</td>\n",
       "      <td>2.697458e-01</td>\n",
       "    </tr>\n",
       "    <tr>\n",
       "      <th>1</th>\n",
       "      <td>0</td>\n",
       "      <td>Balance</td>\n",
       "      <td>0.738246</td>\n",
       "      <td>0.133781</td>\n",
       "      <td>3.021796e-01</td>\n",
       "    </tr>\n",
       "    <tr>\n",
       "      <th>2</th>\n",
       "      <td>1</td>\n",
       "      <td>Age</td>\n",
       "      <td>0.689635</td>\n",
       "      <td>0.012621</td>\n",
       "      <td>3.143319e-01</td>\n",
       "    </tr>\n",
       "    <tr>\n",
       "      <th>3</th>\n",
       "      <td>1</td>\n",
       "      <td>Exited</td>\n",
       "      <td>0.689635</td>\n",
       "      <td>0.046081</td>\n",
       "      <td>3.253576e-01</td>\n",
       "    </tr>\n",
       "    <tr>\n",
       "      <th>4</th>\n",
       "      <td>2</td>\n",
       "      <td>EstimatedSalary</td>\n",
       "      <td>1.000000</td>\n",
       "      <td>0.000203</td>\n",
       "      <td>0.000000e+00</td>\n",
       "    </tr>\n",
       "    <tr>\n",
       "      <th>5</th>\n",
       "      <td>3</td>\n",
       "      <td>CreditScore</td>\n",
       "      <td>1.000000</td>\n",
       "      <td>0.000552</td>\n",
       "      <td>0.000000e+00</td>\n",
       "    </tr>\n",
       "    <tr>\n",
       "      <th>6</th>\n",
       "      <td>4</td>\n",
       "      <td>HasCrCard</td>\n",
       "      <td>1.000000</td>\n",
       "      <td>0.000452</td>\n",
       "      <td>0.000000e+00</td>\n",
       "    </tr>\n",
       "    <tr>\n",
       "      <th>7</th>\n",
       "      <td>5</td>\n",
       "      <td>Tenure</td>\n",
       "      <td>1.000000</td>\n",
       "      <td>0.000292</td>\n",
       "      <td>0.000000e+00</td>\n",
       "    </tr>\n",
       "    <tr>\n",
       "      <th>8</th>\n",
       "      <td>6</td>\n",
       "      <td>IsActiveMember</td>\n",
       "      <td>1.000000</td>\n",
       "      <td>0.025176</td>\n",
       "      <td>0.000000e+00</td>\n",
       "    </tr>\n",
       "    <tr>\n",
       "      <th>9</th>\n",
       "      <td>7</td>\n",
       "      <td>Gender</td>\n",
       "      <td>1.000000</td>\n",
       "      <td>0.016499</td>\n",
       "      <td>0.000000e+00</td>\n",
       "    </tr>\n",
       "    <tr>\n",
       "      <th>10</th>\n",
       "      <td>8</td>\n",
       "      <td>NumOfProducts</td>\n",
       "      <td>1.000000</td>\n",
       "      <td>0.070658</td>\n",
       "      <td>2.389267e-16</td>\n",
       "    </tr>\n",
       "  </tbody>\n",
       "</table>\n",
       "</div>"
      ],
      "text/plain": [
       "   Cluster         Variable    RS_Own     RS_NC      RS_Ratio\n",
       "0        0        Geography  0.738246  0.029628  2.697458e-01\n",
       "1        0          Balance  0.738246  0.133781  3.021796e-01\n",
       "2        1              Age  0.689635  0.012621  3.143319e-01\n",
       "3        1           Exited  0.689635  0.046081  3.253576e-01\n",
       "4        2  EstimatedSalary  1.000000  0.000203  0.000000e+00\n",
       "5        3      CreditScore  1.000000  0.000552  0.000000e+00\n",
       "6        4        HasCrCard  1.000000  0.000452  0.000000e+00\n",
       "7        5           Tenure  1.000000  0.000292  0.000000e+00\n",
       "8        6   IsActiveMember  1.000000  0.025176  0.000000e+00\n",
       "9        7           Gender  1.000000  0.016499  0.000000e+00\n",
       "10       8    NumOfProducts  1.000000  0.070658  2.389267e-16"
      ]
     },
     "execution_count": 59,
     "metadata": {},
     "output_type": "execute_result"
    }
   ],
   "source": [
    "analisis_bi_multi.varclus(df_train)"
   ]
  },
  {
   "cell_type": "code",
   "execution_count": 60,
   "id": "9838c01a",
   "metadata": {},
   "outputs": [
    {
     "data": {
      "text/plain": [
       "array([1.        , 0.16955767, 0.12529184])"
      ]
     },
     "execution_count": 60,
     "metadata": {},
     "output_type": "execute_result"
    }
   ],
   "source": [
    "corr= stats.spearmanr(df_train[['Exited','Geography','Balance']])\n",
    "corr[0][0]"
   ]
  },
  {
   "cell_type": "code",
   "execution_count": 61,
   "id": "e45b303d",
   "metadata": {
    "scrolled": false
   },
   "outputs": [
    {
     "data": {
      "text/plain": [
       "{'CreditScore':                      Bin   Count  Count (%)  Non-event  Event  Event rate  \\\n",
       " 0         (-inf, 560.50)   18611   0.117494      14195   4416    0.237279   \n",
       " 1       [560.50, 659.50)   60571   0.382393      47629  12942    0.213667   \n",
       " 2       [659.50, 709.50)   38740   0.244571      31593   7147    0.184486   \n",
       " 3       [709.50, 730.50)   14101   0.089021      11602   2499    0.177221   \n",
       " 4          [730.50, inf)   26377   0.166521      20966   5411    0.205141   \n",
       " 5                Special       0   0.000000          0      0    0.000000   \n",
       " 6                Missing       0   0.000000          0      0    0.000000   \n",
       " Totals                    158400   1.000000     125985  32415    0.204640   \n",
       " \n",
       "              WoE        IV            JS  \n",
       " 0      -0.189886  0.004474  5.584016e-04  \n",
       " 1      -0.054578  0.001157  1.446581e-04  \n",
       " 2       0.128701  0.003898  4.868565e-04  \n",
       " 3       0.177745  0.002666  3.327543e-04  \n",
       " 4      -0.003073  0.000002  1.967960e-07  \n",
       " 5            0.0  0.000000  0.000000e+00  \n",
       " 6            0.0  0.000000  0.000000e+00  \n",
       " Totals            0.012196  1.522867e-03  ,\n",
       " 'Age':                    Bin   Count  Count (%)  Non-event  Event  Event rate  \\\n",
       " 0        (-inf, 32.50)   43615   0.275347      40057   3558    0.081577   \n",
       " 1       [32.50, 34.50)   16955   0.107039      15532   1423    0.083928   \n",
       " 2       [34.50, 36.50)   17655   0.111458      15556   2099    0.118890   \n",
       " 3       [36.50, 37.50)    9248   0.058384       8148   1100    0.118945   \n",
       " 4       [37.50, 38.50)    9235   0.058302       8038   1197    0.129616   \n",
       " 5       [38.50, 39.50)    7928   0.050051       6566   1362    0.171796   \n",
       " 6       [39.50, 40.50)    7978   0.050366       6257   1721    0.215718   \n",
       " 7       [40.50, 42.50)   11510   0.072664       8825   2685    0.233275   \n",
       " 8       [42.50, 45.50)   12619   0.079665       7852   4767    0.377764   \n",
       " 9       [45.50, 48.50)    8999   0.056812       4352   4647    0.516391   \n",
       " 10        [48.50, inf)   12658   0.079912       4802   7856    0.620635   \n",
       " 11             Special       0   0.000000          0      0    0.000000   \n",
       " 12             Missing       0   0.000000          0      0    0.000000   \n",
       " Totals                  158400   1.000000     125985  32415    0.204640   \n",
       " \n",
       "              WoE        IV        JS  \n",
       " 0       1.063563  0.221420  0.026443  \n",
       " 1       1.032594  0.081973  0.009814  \n",
       " 2       0.645444  0.037901  0.004657  \n",
       " 3       0.644921  0.019825  0.002436  \n",
       " 4        0.54682  0.014695  0.001814  \n",
       " 5       0.215409  0.002176  0.000271  \n",
       " 6      -0.066746  0.000229  0.000029  \n",
       " 7      -0.167634  0.002143  0.000268  \n",
       " 8       -0.85849  0.072746  0.008824  \n",
       " 9      -1.423128  0.154859  0.017873  \n",
       " 10     -1.849787  0.377803  0.041468  \n",
       " 11           0.0  0.000000  0.000000  \n",
       " 12           0.0  0.000000  0.000000  \n",
       " Totals            0.985768  0.113897  ,\n",
       " 'Tenure':                  Bin   Count  Count (%)  Non-event  Event  Event rate  \\\n",
       " 0       (-inf, 1.50)   20767   0.131105      16107   4660    0.224394   \n",
       " 1       [1.50, 5.50)   66733   0.421294      52676  14057    0.210645   \n",
       " 2       [5.50, 6.50)   15204   0.095985      12294   2910    0.191397   \n",
       " 3       [6.50, 7.50)   17145   0.108239      14051   3094    0.180461   \n",
       " 4       [7.50, 8.50)   16880   0.106566      13641   3239    0.191884   \n",
       " 5        [8.50, inf)   21671   0.136812      17216   4455    0.205574   \n",
       " 6            Special       0   0.000000          0      0    0.000000   \n",
       " 7            Missing       0   0.000000          0      0    0.000000   \n",
       " Totals                158400   1.000000     125985  32415    0.204640   \n",
       " \n",
       "              WoE        IV            JS  \n",
       " 0      -0.117303  0.001867  2.331829e-04  \n",
       " 1      -0.036502  0.000567  7.091964e-05  \n",
       " 2       0.083417  0.000651  8.140977e-05  \n",
       " 3       0.155687  0.002503  3.126062e-04  \n",
       " 4       0.080274  0.000670  8.378249e-05  \n",
       " 5      -0.005729  0.000004  5.623329e-07  \n",
       " 6            0.0  0.000000  0.000000e+00  \n",
       " 7            0.0  0.000000  0.000000e+00  \n",
       " Totals            0.006264  7.824633e-04  ,\n",
       " 'Balance':                            Bin   Count  Count (%)  Non-event  Event  \\\n",
       " 0             (-inf, 88915.71)   93110   0.587816      78302  14808   \n",
       " 1        [88915.71, 102027.80)    8204   0.051793       6390   1814   \n",
       " 2       [102027.80, 110349.51)    8070   0.050947       5481   2589   \n",
       " 3       [110349.51, 119499.45)    9113   0.057532       6302   2811   \n",
       " 4       [119499.45, 127762.57)   11305   0.071370       8148   3157   \n",
       " 5       [127762.57, 137986.73)   11148   0.070379       8076   3072   \n",
       " 6       [137986.73, 150843.39)    9285   0.058617       7008   2277   \n",
       " 7             [150843.39, inf)    8165   0.051547       6278   1887   \n",
       " 8                      Special       0   0.000000          0      0   \n",
       " 9                      Missing       0   0.000000          0      0   \n",
       " Totals                          158400   1.000000     125985  32415   \n",
       " \n",
       "         Event rate       WoE        IV        JS  \n",
       " 0         0.159038  0.307864  0.050703  0.006313  \n",
       " 1         0.221112 -0.098342  0.000515  0.000064  \n",
       " 2         0.320818 -0.607526  0.022093  0.002720  \n",
       " 3         0.308460 -0.550215  0.020191  0.002493  \n",
       " 4         0.279257 -0.409391  0.013395  0.001663  \n",
       " 5         0.275565 -0.390974  0.011990  0.001489  \n",
       " 6         0.245234 -0.233348  0.003411  0.000425  \n",
       " 7         0.231108 -0.155478  0.001303  0.000163  \n",
       " 8         0.000000       0.0  0.000000  0.000000  \n",
       " 9         0.000000       0.0  0.000000  0.000000  \n",
       " Totals    0.204640            0.123603  0.015330  ,\n",
       " 'NumOfProducts':                  Bin   Count  Count (%)  Non-event  Event  Event rate  \\\n",
       " 0       (-inf, 1.50)   73674   0.465114      48736  24938    0.338491   \n",
       " 1        [1.50, inf)   84726   0.534886      77249   7477    0.088249   \n",
       " 2            Special       0   0.000000          0      0    0.000000   \n",
       " 3            Missing       0   0.000000          0      0    0.000000   \n",
       " Totals                158400   1.000000     125985  32415    0.204640   \n",
       " \n",
       "              WoE        IV        JS  \n",
       " 0      -0.687516  0.262972  0.032239  \n",
       " 1       0.977661  0.373951  0.044967  \n",
       " 2            0.0  0.000000  0.000000  \n",
       " 3            0.0  0.000000  0.000000  \n",
       " Totals            0.636923  0.077206  ,\n",
       " 'EstimatedSalary':                            Bin   Count  Count (%)  Non-event  Event  \\\n",
       " 0             (-inf, 30186.07)   11222   0.070846       8945   2277   \n",
       " 1         [30186.07, 50973.64)    8285   0.052304       6832   1453   \n",
       " 2        [50973.64, 112976.70)   55107   0.347898      44203  10904   \n",
       " 3       [112976.70, 131043.75)   17778   0.112235      14194   3584   \n",
       " 4       [131043.75, 160976.65)   31493   0.198819      24987   6506   \n",
       " 5       [160976.65, 172363.21)   13028   0.082247      10171   2857   \n",
       " 6             [172363.21, inf)   21487   0.135650      16653   4834   \n",
       " 7                      Special       0   0.000000          0      0   \n",
       " 8                      Missing       0   0.000000          0      0   \n",
       " Totals                          158400   1.000000     125985  32415   \n",
       " \n",
       "         Event rate       WoE        IV        JS  \n",
       " 0         0.202905  0.010694  0.000008  0.000001  \n",
       " 1         0.175377  0.190445  0.001791  0.000224  \n",
       " 2         0.197870  0.042121  0.000610  0.000076  \n",
       " 3         0.201597  0.018798  0.000039  0.000005  \n",
       " 4         0.206586 -0.011911  0.000028  0.000004  \n",
       " 5         0.219297 -0.087773  0.000650  0.000081  \n",
       " 6         0.224973 -0.120625  0.002044  0.000255  \n",
       " 7         0.000000       0.0  0.000000  0.000000  \n",
       " 8         0.000000       0.0  0.000000  0.000000  \n",
       " Totals    0.204640            0.005171  0.000646  ,\n",
       " 'Exited':                 Bin   Count  Count (%)  Non-event  Event  Event rate  WoE  \\\n",
       " 0       (-inf, inf)  158400        1.0     125985  32415     0.20464  0.0   \n",
       " 1           Special       0        0.0          0      0     0.00000  0.0   \n",
       " 2           Missing       0        0.0          0      0     0.00000  0.0   \n",
       " Totals               158400        1.0     125985  32415     0.20464        \n",
       " \n",
       "          IV   JS  \n",
       " 0       0.0  0.0  \n",
       " 1       0.0  0.0  \n",
       " 2       0.0  0.0  \n",
       " Totals  0.0  0.0  }"
      ]
     },
     "execution_count": 61,
     "metadata": {},
     "output_type": "execute_result"
    }
   ],
   "source": [
    "analisis_bi_multi.woenum(df_train,df_train['Exited'])"
   ]
  },
  {
   "cell_type": "code",
   "execution_count": 62,
   "id": "e1a0f088",
   "metadata": {},
   "outputs": [
    {
     "data": {
      "text/plain": [
       "{'Geography':             Bin   Count  Count (%)  Non-event  Event  Event rate       WoE  \\\n",
       " 0           [0]   90658   0.572336      76204  14454    0.159434  0.304901   \n",
       " 1           [1]   34721   0.219198      28958   5763    0.165980  0.256847   \n",
       " 2           [2]   33021   0.208466      20823  12198    0.369401 -0.822755   \n",
       " 3       Special       0   0.000000          0      0    0.000000       0.0   \n",
       " 4       Missing       0   0.000000          0      0    0.000000       0.0   \n",
       " Totals           158400   1.000000     125985  32415    0.204640             \n",
       " \n",
       "               IV        JS  \n",
       " 0       0.048467  0.006035  \n",
       " 1       0.013373  0.001667  \n",
       " 2       0.173623  0.021111  \n",
       " 3       0.000000  0.000000  \n",
       " 4       0.000000  0.000000  \n",
       " Totals  0.235463  0.028813  ,\n",
       " 'Gender':             Bin   Count  Count (%)  Non-event  Event  Event rate       WoE  \\\n",
       " 0           [0]   89662   0.566048      75904  13758    0.153443  0.350307   \n",
       " 1           [1]   68738   0.433952      50081  18657    0.271422 -0.370121   \n",
       " 2       Special       0   0.000000          0      0    0.000000       0.0   \n",
       " 3       Missing       0   0.000000          0      0    0.000000       0.0   \n",
       " Totals           158400   1.000000     125985  32415    0.204640             \n",
       " \n",
       "               IV        JS  \n",
       " 0       0.062373  0.007757  \n",
       " 1       0.065901  0.008191  \n",
       " 2       0.000000  0.000000  \n",
       " 3       0.000000  0.000000  \n",
       " Totals  0.128273  0.015948  ,\n",
       " 'HasCrCard':             Bin   Count  Count (%)  Non-event  Event  Event rate       WoE  \\\n",
       " 0           [1]  119517   0.754527      95663  23854    0.199587  0.031338   \n",
       " 1           [0]   38883   0.245473      30322   8561    0.220173 -0.092885   \n",
       " 2       Special       0   0.000000          0      0    0.000000       0.0   \n",
       " 3       Missing       0   0.000000          0      0    0.000000       0.0   \n",
       " Totals           158400   1.000000     125985  32415    0.204640             \n",
       " \n",
       "               IV        JS  \n",
       " 0       0.000734  0.000092  \n",
       " 1       0.002176  0.000272  \n",
       " 2       0.000000  0.000000  \n",
       " 3       0.000000  0.000000  \n",
       " Totals  0.002910  0.000364  ,\n",
       " 'IsActiveMember':             Bin   Count  Count (%)  Non-event  Event  Event rate       WoE  \\\n",
       " 0           [1]   77565   0.489678      68278   9287    0.119732   0.63743   \n",
       " 1           [0]   80835   0.510322      57707  23128    0.286114 -0.443207   \n",
       " 2       Special       0   0.000000          0      0    0.000000       0.0   \n",
       " 3       Missing       0   0.000000          0      0    0.000000       0.0   \n",
       " Totals           158400   1.000000     125985  32415    0.204640             \n",
       " \n",
       "               IV        JS  \n",
       " 0       0.162832  0.020016  \n",
       " 1       0.113217  0.014037  \n",
       " 2       0.000000  0.000000  \n",
       " 3       0.000000  0.000000  \n",
       " Totals  0.276049  0.034054  }"
      ]
     },
     "execution_count": 62,
     "metadata": {},
     "output_type": "execute_result"
    }
   ],
   "source": [
    "analisis_bi_multi.woecat(df_train,df_train['Exited'])"
   ]
  },
  {
   "cell_type": "code",
   "execution_count": 63,
   "id": "45a3bed8",
   "metadata": {
    "scrolled": false
   },
   "outputs": [
    {
     "data": {
      "image/png": "[encoded data removed]",
      "text/plain": [
       "<Figure size 432x288 with 2 Axes>"
      ]
     },
     "metadata": {
      "needs_background": "light"
     },
     "output_type": "display_data"
    },
    {
     "data": {
      "image/png": "[encoded data removed]",
      "text/plain": [
       "<Figure size 432x288 with 2 Axes>"
      ]
     },
     "metadata": {
      "needs_background": "light"
     },
     "output_type": "display_data"
    },
    {
     "data": {
      "image/png": "[encoded data removed]",
      "text/plain": [
       "<Figure size 432x288 with 2 Axes>"
      ]
     },
     "metadata": {
      "needs_background": "light"
     },
     "output_type": "display_data"
    },
    {
     "data": {
      "image/png": "[encoded data removed]",
      "text/plain": [
       "<Figure size 432x288 with 2 Axes>"
      ]
     },
     "metadata": {
      "needs_background": "light"
     },
     "output_type": "display_data"
    },
    {
     "data": {
      "image/png": "[encoded data removed]",
      "text/plain": [
       "<Figure size 432x288 with 2 Axes>"
      ]
     },
     "metadata": {
      "needs_background": "light"
     },
     "output_type": "display_data"
    },
    {
     "data": {
      "image/png": "[encoded data removed]",
      "text/plain": [
       "<Figure size 432x288 with 2 Axes>"
      ]
     },
     "metadata": {
      "needs_background": "light"
     },
     "output_type": "display_data"
    },
    {
     "data": {
      "image/png": "[encoded data removed]",
      "text/plain": [
       "<Figure size 432x288 with 2 Axes>"
      ]
     },
     "metadata": {
      "needs_background": "light"
     },
     "output_type": "display_data"
    },
    {
     "data": {
      "text/plain": [
       "[None, None, None, None, None, None, None]"
      ]
     },
     "execution_count": 63,
     "metadata": {},
     "output_type": "execute_result"
    }
   ],
   "source": [
    "analisis_bi_multi.woegrafnum(df_train,df_train['Exited'])"
   ]
  },
  {
   "cell_type": "code",
   "execution_count": 64,
   "id": "ece6c05d",
   "metadata": {},
   "outputs": [
    {
     "data": {
      "image/png": "[encoded data removed]",
      "text/plain": [
       "<Figure size 432x288 with 2 Axes>"
      ]
     },
     "metadata": {
      "needs_background": "light"
     },
     "output_type": "display_data"
    },
    {
     "data": {
      "image/png": "[encoded data removed]",
      "text/plain": [
       "<Figure size 432x288 with 2 Axes>"
      ]
     },
     "metadata": {
      "needs_background": "light"
     },
     "output_type": "display_data"
    },
    {
     "data": {
      "image/png": "[encoded data removed]",
      "text/plain": [
       "<Figure size 432x288 with 2 Axes>"
      ]
     },
     "metadata": {
      "needs_background": "light"
     },
     "output_type": "display_data"
    },
    {
     "data": {
      "image/png": "[encoded data removed]",
      "text/plain": [
       "<Figure size 432x288 with 2 Axes>"
      ]
     },
     "metadata": {
      "needs_background": "light"
     },
     "output_type": "display_data"
    },
    {
     "data": {
      "text/plain": [
       "[None, None, None, None]"
      ]
     },
     "execution_count": 64,
     "metadata": {},
     "output_type": "execute_result"
    }
   ],
   "source": [
    "analisis_bi_multi.woegrafcat(df_train,df_train['Exited'])"
   ]
  },
  {
   "cell_type": "code",
   "execution_count": 65,
   "id": "8d4a4cac",
   "metadata": {},
   "outputs": [],
   "source": [
    "columns_scale= ['CreditScore','Age','Tenure','Balance','EstimatedSalary','NumOfProducts']\n",
    "\n",
    "scaler = MinMaxScaler()\n",
    "df_train[columns_scale]= scaler.fit_transform(df_train[columns_scale])\n",
    "#df_test[columns_scale]= scaler.fit_transform(df_test[columns_scale])"
   ]
  },
  {
   "cell_type": "code",
   "execution_count": 66,
   "id": "296d3ab8",
   "metadata": {},
   "outputs": [
    {
     "data": {
      "text/html": [
       "<div>\n",
       "<style scoped>\n",
       "    .dataframe tbody tr th:only-of-type {\n",
       "        vertical-align: middle;\n",
       "    }\n",
       "\n",
       "    .dataframe tbody tr th {\n",
       "        vertical-align: top;\n",
       "    }\n",
       "\n",
       "    .dataframe thead th {\n",
       "        text-align: right;\n",
       "    }\n",
       "</style>\n",
       "<table border=\"1\" class=\"dataframe\">\n",
       "  <thead>\n",
       "    <tr style=\"text-align: right;\">\n",
       "      <th></th>\n",
       "      <th>CreditScore</th>\n",
       "      <th>Geography</th>\n",
       "      <th>Gender</th>\n",
       "      <th>Age</th>\n",
       "      <th>Tenure</th>\n",
       "      <th>Balance</th>\n",
       "      <th>NumOfProducts</th>\n",
       "      <th>HasCrCard</th>\n",
       "      <th>IsActiveMember</th>\n",
       "      <th>EstimatedSalary</th>\n",
       "      <th>Exited</th>\n",
       "    </tr>\n",
       "  </thead>\n",
       "  <tbody>\n",
       "    <tr>\n",
       "      <th>0</th>\n",
       "      <td>0.568720</td>\n",
       "      <td>0</td>\n",
       "      <td>0</td>\n",
       "      <td>0.384615</td>\n",
       "      <td>0.3</td>\n",
       "      <td>0.000000</td>\n",
       "      <td>0.333333</td>\n",
       "      <td>1</td>\n",
       "      <td>0</td>\n",
       "      <td>0.907279</td>\n",
       "      <td>0</td>\n",
       "    </tr>\n",
       "    <tr>\n",
       "      <th>1</th>\n",
       "      <td>0.471564</td>\n",
       "      <td>0</td>\n",
       "      <td>0</td>\n",
       "      <td>0.384615</td>\n",
       "      <td>0.1</td>\n",
       "      <td>0.000000</td>\n",
       "      <td>0.333333</td>\n",
       "      <td>1</td>\n",
       "      <td>1</td>\n",
       "      <td>0.247483</td>\n",
       "      <td>0</td>\n",
       "    </tr>\n",
       "    <tr>\n",
       "      <th>2</th>\n",
       "      <td>0.592417</td>\n",
       "      <td>0</td>\n",
       "      <td>0</td>\n",
       "      <td>0.564103</td>\n",
       "      <td>1.0</td>\n",
       "      <td>0.000000</td>\n",
       "      <td>0.333333</td>\n",
       "      <td>1</td>\n",
       "      <td>0</td>\n",
       "      <td>0.924364</td>\n",
       "      <td>0</td>\n",
       "    </tr>\n",
       "    <tr>\n",
       "      <th>3</th>\n",
       "      <td>0.362559</td>\n",
       "      <td>0</td>\n",
       "      <td>0</td>\n",
       "      <td>0.410256</td>\n",
       "      <td>0.2</td>\n",
       "      <td>0.593398</td>\n",
       "      <td>0.000000</td>\n",
       "      <td>1</td>\n",
       "      <td>1</td>\n",
       "      <td>0.422787</td>\n",
       "      <td>0</td>\n",
       "    </tr>\n",
       "    <tr>\n",
       "      <th>4</th>\n",
       "      <td>0.682464</td>\n",
       "      <td>1</td>\n",
       "      <td>0</td>\n",
       "      <td>0.384615</td>\n",
       "      <td>0.5</td>\n",
       "      <td>0.000000</td>\n",
       "      <td>0.333333</td>\n",
       "      <td>1</td>\n",
       "      <td>1</td>\n",
       "      <td>0.075293</td>\n",
       "      <td>0</td>\n",
       "    </tr>\n",
       "    <tr>\n",
       "      <th>...</th>\n",
       "      <td>...</td>\n",
       "      <td>...</td>\n",
       "      <td>...</td>\n",
       "      <td>...</td>\n",
       "      <td>...</td>\n",
       "      <td>...</td>\n",
       "      <td>...</td>\n",
       "      <td>...</td>\n",
       "      <td>...</td>\n",
       "      <td>...</td>\n",
       "      <td>...</td>\n",
       "    </tr>\n",
       "    <tr>\n",
       "      <th>158395</th>\n",
       "      <td>0.566351</td>\n",
       "      <td>1</td>\n",
       "      <td>1</td>\n",
       "      <td>0.384615</td>\n",
       "      <td>0.2</td>\n",
       "      <td>0.000000</td>\n",
       "      <td>0.000000</td>\n",
       "      <td>1</td>\n",
       "      <td>1</td>\n",
       "      <td>0.659179</td>\n",
       "      <td>0</td>\n",
       "    </tr>\n",
       "    <tr>\n",
       "      <th>158396</th>\n",
       "      <td>0.862559</td>\n",
       "      <td>0</td>\n",
       "      <td>0</td>\n",
       "      <td>0.435897</td>\n",
       "      <td>0.3</td>\n",
       "      <td>0.000000</td>\n",
       "      <td>0.000000</td>\n",
       "      <td>0</td>\n",
       "      <td>0</td>\n",
       "      <td>0.659177</td>\n",
       "      <td>0</td>\n",
       "    </tr>\n",
       "    <tr>\n",
       "      <th>158397</th>\n",
       "      <td>0.324645</td>\n",
       "      <td>0</td>\n",
       "      <td>0</td>\n",
       "      <td>0.333333</td>\n",
       "      <td>0.5</td>\n",
       "      <td>0.000000</td>\n",
       "      <td>0.000000</td>\n",
       "      <td>1</td>\n",
       "      <td>1</td>\n",
       "      <td>0.637151</td>\n",
       "      <td>0</td>\n",
       "    </tr>\n",
       "    <tr>\n",
       "      <th>158398</th>\n",
       "      <td>0.298578</td>\n",
       "      <td>1</td>\n",
       "      <td>1</td>\n",
       "      <td>0.307692</td>\n",
       "      <td>0.7</td>\n",
       "      <td>0.643819</td>\n",
       "      <td>0.000000</td>\n",
       "      <td>0</td>\n",
       "      <td>1</td>\n",
       "      <td>0.355841</td>\n",
       "      <td>0</td>\n",
       "    </tr>\n",
       "    <tr>\n",
       "      <th>158399</th>\n",
       "      <td>1.000000</td>\n",
       "      <td>0</td>\n",
       "      <td>0</td>\n",
       "      <td>0.333333</td>\n",
       "      <td>0.1</td>\n",
       "      <td>0.000000</td>\n",
       "      <td>0.000000</td>\n",
       "      <td>1</td>\n",
       "      <td>0</td>\n",
       "      <td>0.307880</td>\n",
       "      <td>1</td>\n",
       "    </tr>\n",
       "  </tbody>\n",
       "</table>\n",
       "<p>158400 rows × 11 columns</p>\n",
       "</div>"
      ],
      "text/plain": [
       "        CreditScore Geography Gender       Age  Tenure   Balance  \\\n",
       "0          0.568720         0      0  0.384615     0.3  0.000000   \n",
       "1          0.471564         0      0  0.384615     0.1  0.000000   \n",
       "2          0.592417         0      0  0.564103     1.0  0.000000   \n",
       "3          0.362559         0      0  0.410256     0.2  0.593398   \n",
       "4          0.682464         1      0  0.384615     0.5  0.000000   \n",
       "...             ...       ...    ...       ...     ...       ...   \n",
       "158395     0.566351         1      1  0.384615     0.2  0.000000   \n",
       "158396     0.862559         0      0  0.435897     0.3  0.000000   \n",
       "158397     0.324645         0      0  0.333333     0.5  0.000000   \n",
       "158398     0.298578         1      1  0.307692     0.7  0.643819   \n",
       "158399     1.000000         0      0  0.333333     0.1  0.000000   \n",
       "\n",
       "        NumOfProducts  HasCrCard  IsActiveMember  EstimatedSalary  Exited  \n",
       "0            0.333333          1               0         0.907279       0  \n",
       "1            0.333333          1               1         0.247483       0  \n",
       "2            0.333333          1               0         0.924364       0  \n",
       "3            0.000000          1               1         0.422787       0  \n",
       "4            0.333333          1               1         0.075293       0  \n",
       "...               ...        ...             ...              ...     ...  \n",
       "158395       0.000000          1               1         0.659179       0  \n",
       "158396       0.000000          0               0         0.659177       0  \n",
       "158397       0.000000          1               1         0.637151       0  \n",
       "158398       0.000000          0               1         0.355841       0  \n",
       "158399       0.000000          1               0         0.307880       1  \n",
       "\n",
       "[158400 rows x 11 columns]"
      ]
     },
     "execution_count": 66,
     "metadata": {},
     "output_type": "execute_result"
    }
   ],
   "source": [
    "df_train"
   ]
  },
  {
   "cell_type": "code",
   "execution_count": 67,
   "id": "ce77535c",
   "metadata": {},
   "outputs": [
    {
     "name": "stdout",
     "output_type": "stream",
     "text": [
      "Feature 0: 0.16661811352609796\n",
      "Feature 1: 0.037271139101796046\n",
      "Feature 2: 0.016865640867987346\n",
      "Feature 3: 0.20658522269835056\n",
      "Feature 4: 0.08135710180541991\n",
      "Feature 5: 0.11868196522587386\n",
      "Feature 6: 0.14298171458082976\n",
      "Feature 7: 0.012600562421432598\n",
      "Feature 8: 0.0374576277292848\n",
      "Feature 9: 0.17958091204292717\n"
     ]
    }
   ],
   "source": [
    "var_selection.randomforest(df_train,'Exited','log_loss')"
   ]
  },
  {
   "cell_type": "code",
   "execution_count": 68,
   "id": "64ff01cc",
   "metadata": {},
   "outputs": [
    {
     "name": "stdout",
     "output_type": "stream",
     "text": [
      "Feature 0: 0.16241003447145055\n",
      "Feature 1: 0.027280191292382176\n",
      "Feature 2: 0.012022870477410531\n",
      "Feature 3: 0.2063816597294965\n",
      "Feature 4: 0.07597235168722347\n",
      "Feature 5: 0.12904620596768807\n",
      "Feature 6: 0.13818928606835285\n",
      "Feature 7: 0.014857757727524772\n",
      "Feature 8: 0.03326793215934146\n",
      "Feature 9: 0.20057171041912963\n"
     ]
    }
   ],
   "source": [
    "var_selection.decisiontrees(df_train,'Exited')"
   ]
  },
  {
   "cell_type": "code",
   "execution_count": 69,
   "id": "05fd2d48",
   "metadata": {},
   "outputs": [
    {
     "name": "stdout",
     "output_type": "stream",
     "text": [
      "Feature 0: 0.08\n",
      "Feature 1: 0.04\n",
      "Feature 2: 0.02\n",
      "Feature 3: 0.44\n",
      "Feature 4: 0.06\n",
      "Feature 5: 0.16\n",
      "Feature 6: 0.08\n",
      "Feature 7: 0.02\n",
      "Feature 8: 0.02\n",
      "Feature 9: 0.08\n"
     ]
    }
   ],
   "source": [
    "var_selection.adaboost(df_train,'Exited')"
   ]
  },
  {
   "cell_type": "code",
   "execution_count": 70,
   "id": "2305a62c",
   "metadata": {},
   "outputs": [
    {
     "name": "stdout",
     "output_type": "stream",
     "text": [
      "Feature 0: 0.0022572841906256355\n",
      "Feature 1: 0.061397837107902344\n",
      "Feature 2: 0.02780616705648696\n",
      "Feature 3: 0.4147527699740183\n",
      "Feature 4: 0.0007717304784362292\n",
      "Feature 5: 0.04858063242628351\n",
      "Feature 6: 0.3443210347473722\n",
      "Feature 7: 0.001229863515852224\n",
      "Feature 8: 0.097454901821757\n",
      "Feature 9: 0.0014277786812655262\n"
     ]
    }
   ],
   "source": [
    "var_selection.gradientboost(df_train,'Exited')"
   ]
  },
  {
   "cell_type": "markdown",
   "id": "d907c281",
   "metadata": {},
   "source": [
    "## Model development"
   ]
  },
  {
   "cell_type": "markdown",
   "id": "73cdd0bc",
   "metadata": {},
   "source": [
    "#### What are the most important variables to predict the customer churn?"
   ]
  },
  {
   "cell_type": "code",
   "execution_count": 71,
   "id": "3e6a457a",
   "metadata": {},
   "outputs": [],
   "source": [
    "from sklearn.linear_model import LogisticRegression\n",
    "from sklearn.ensemble import RandomForestClassifier\n",
    "from xgboost import XGBClassifier\n",
    "from sklearn.ensemble import GradientBoostingClassifier\n",
    "from sklearn.model_selection import GridSearchCV, cross_val_score\n",
    "from sklearn.ensemble import AdaBoostClassifier\n",
    "from sklearn.tree import DecisionTreeClassifier\n",
    "from sklearn.model_selection import train_test_split\n",
    "\n",
    "\n",
    "from sklearn.metrics import confusion_matrix, classification_report"
   ]
  },
  {
   "cell_type": "code",
   "execution_count": 72,
   "id": "7fdb4f96",
   "metadata": {},
   "outputs": [],
   "source": [
    "df_train= df_train[['Geography','Gender','Age','NumOfProducts','IsActiveMember','Exited']]\n",
    "df_test= df_test[['Geography','Gender','Age','NumOfProducts','IsActiveMember']].values"
   ]
  },
  {
   "cell_type": "code",
   "execution_count": 73,
   "id": "a3436a69",
   "metadata": {},
   "outputs": [],
   "source": [
    "X= df_train.drop(columns=['Exited'])\n",
    "y= df_train['Exited']"
   ]
  },
  {
   "cell_type": "code",
   "execution_count": 74,
   "id": "6802eb28",
   "metadata": {},
   "outputs": [
    {
     "data": {
      "text/html": [
       "<div>\n",
       "<style scoped>\n",
       "    .dataframe tbody tr th:only-of-type {\n",
       "        vertical-align: middle;\n",
       "    }\n",
       "\n",
       "    .dataframe tbody tr th {\n",
       "        vertical-align: top;\n",
       "    }\n",
       "\n",
       "    .dataframe thead th {\n",
       "        text-align: right;\n",
       "    }\n",
       "</style>\n",
       "<table border=\"1\" class=\"dataframe\">\n",
       "  <thead>\n",
       "    <tr style=\"text-align: right;\">\n",
       "      <th></th>\n",
       "      <th>Geography</th>\n",
       "      <th>Gender</th>\n",
       "      <th>Age</th>\n",
       "      <th>NumOfProducts</th>\n",
       "      <th>IsActiveMember</th>\n",
       "    </tr>\n",
       "  </thead>\n",
       "  <tbody>\n",
       "    <tr>\n",
       "      <th>0</th>\n",
       "      <td>0</td>\n",
       "      <td>0</td>\n",
       "      <td>0.384615</td>\n",
       "      <td>0.333333</td>\n",
       "      <td>0</td>\n",
       "    </tr>\n",
       "    <tr>\n",
       "      <th>1</th>\n",
       "      <td>0</td>\n",
       "      <td>0</td>\n",
       "      <td>0.384615</td>\n",
       "      <td>0.333333</td>\n",
       "      <td>1</td>\n",
       "    </tr>\n",
       "    <tr>\n",
       "      <th>2</th>\n",
       "      <td>0</td>\n",
       "      <td>0</td>\n",
       "      <td>0.564103</td>\n",
       "      <td>0.333333</td>\n",
       "      <td>0</td>\n",
       "    </tr>\n",
       "    <tr>\n",
       "      <th>3</th>\n",
       "      <td>0</td>\n",
       "      <td>0</td>\n",
       "      <td>0.410256</td>\n",
       "      <td>0.000000</td>\n",
       "      <td>1</td>\n",
       "    </tr>\n",
       "    <tr>\n",
       "      <th>4</th>\n",
       "      <td>1</td>\n",
       "      <td>0</td>\n",
       "      <td>0.384615</td>\n",
       "      <td>0.333333</td>\n",
       "      <td>1</td>\n",
       "    </tr>\n",
       "    <tr>\n",
       "      <th>...</th>\n",
       "      <td>...</td>\n",
       "      <td>...</td>\n",
       "      <td>...</td>\n",
       "      <td>...</td>\n",
       "      <td>...</td>\n",
       "    </tr>\n",
       "    <tr>\n",
       "      <th>158395</th>\n",
       "      <td>1</td>\n",
       "      <td>1</td>\n",
       "      <td>0.384615</td>\n",
       "      <td>0.000000</td>\n",
       "      <td>1</td>\n",
       "    </tr>\n",
       "    <tr>\n",
       "      <th>158396</th>\n",
       "      <td>0</td>\n",
       "      <td>0</td>\n",
       "      <td>0.435897</td>\n",
       "      <td>0.000000</td>\n",
       "      <td>0</td>\n",
       "    </tr>\n",
       "    <tr>\n",
       "      <th>158397</th>\n",
       "      <td>0</td>\n",
       "      <td>0</td>\n",
       "      <td>0.333333</td>\n",
       "      <td>0.000000</td>\n",
       "      <td>1</td>\n",
       "    </tr>\n",
       "    <tr>\n",
       "      <th>158398</th>\n",
       "      <td>1</td>\n",
       "      <td>1</td>\n",
       "      <td>0.307692</td>\n",
       "      <td>0.000000</td>\n",
       "      <td>1</td>\n",
       "    </tr>\n",
       "    <tr>\n",
       "      <th>158399</th>\n",
       "      <td>0</td>\n",
       "      <td>0</td>\n",
       "      <td>0.333333</td>\n",
       "      <td>0.000000</td>\n",
       "      <td>0</td>\n",
       "    </tr>\n",
       "  </tbody>\n",
       "</table>\n",
       "<p>158400 rows × 5 columns</p>\n",
       "</div>"
      ],
      "text/plain": [
       "       Geography Gender       Age  NumOfProducts  IsActiveMember\n",
       "0              0      0  0.384615       0.333333               0\n",
       "1              0      0  0.384615       0.333333               1\n",
       "2              0      0  0.564103       0.333333               0\n",
       "3              0      0  0.410256       0.000000               1\n",
       "4              1      0  0.384615       0.333333               1\n",
       "...          ...    ...       ...            ...             ...\n",
       "158395         1      1  0.384615       0.000000               1\n",
       "158396         0      0  0.435897       0.000000               0\n",
       "158397         0      0  0.333333       0.000000               1\n",
       "158398         1      1  0.307692       0.000000               1\n",
       "158399         0      0  0.333333       0.000000               0\n",
       "\n",
       "[158400 rows x 5 columns]"
      ]
     },
     "execution_count": 74,
     "metadata": {},
     "output_type": "execute_result"
    }
   ],
   "source": [
    "X"
   ]
  },
  {
   "cell_type": "code",
   "execution_count": 75,
   "id": "ce89c5d4",
   "metadata": {},
   "outputs": [],
   "source": [
    "xtrain, xtest, ytrain, ytest= train_test_split(X,y,test_size=.30,random_state=0)"
   ]
  },
  {
   "cell_type": "code",
   "execution_count": 76,
   "id": "774489d7",
   "metadata": {},
   "outputs": [
    {
     "name": "stdout",
     "output_type": "stream",
     "text": [
      "[0.84329906 0.84798882 0.84347944 0.84532828 0.84298341]\n",
      "0.8446158008658008\n",
      "              precision    recall  f1-score   support\n",
      "\n",
      "           0       0.86      0.95      0.91     37761\n",
      "           1       0.70      0.40      0.51      9759\n",
      "\n",
      "    accuracy                           0.84     47520\n",
      "   macro avg       0.78      0.68      0.71     47520\n",
      "weighted avg       0.83      0.84      0.82     47520\n",
      "\n"
     ]
    }
   ],
   "source": [
    "logistic= LogisticRegression(penalty='none',random_state=0)\n",
    "\n",
    "cv_scores= cross_val_score(logistic,xtrain,ytrain,cv=5)\n",
    "print(cv_scores)\n",
    "print(cv_scores.mean())\n",
    "\n",
    "logistic.fit(xtrain,ytrain)\n",
    "\n",
    "predict= logistic.predict(xtest)\n",
    "\n",
    "print(classification_report(ytest,predict))"
   ]
  },
  {
   "cell_type": "code",
   "execution_count": 77,
   "id": "5ab358bf",
   "metadata": {},
   "outputs": [
    {
     "name": "stderr",
     "output_type": "stream",
     "text": [
      "D:\\Anaconda\\lib\\site-packages\\sklearn\\linear_model\\_logistic.py:1181: UserWarning: Setting penalty=None will ignore the C and l1_ratio parameters\n",
      "  warnings.warn(\n",
      "D:\\Anaconda\\lib\\site-packages\\sklearn\\linear_model\\_logistic.py:1181: UserWarning: Setting penalty=None will ignore the C and l1_ratio parameters\n",
      "  warnings.warn(\n",
      "D:\\Anaconda\\lib\\site-packages\\sklearn\\linear_model\\_logistic.py:1181: UserWarning: Setting penalty=None will ignore the C and l1_ratio parameters\n",
      "  warnings.warn(\n",
      "D:\\Anaconda\\lib\\site-packages\\sklearn\\linear_model\\_logistic.py:1181: UserWarning: Setting penalty=None will ignore the C and l1_ratio parameters\n",
      "  warnings.warn(\n",
      "D:\\Anaconda\\lib\\site-packages\\sklearn\\linear_model\\_logistic.py:1181: UserWarning: Setting penalty=None will ignore the C and l1_ratio parameters\n",
      "  warnings.warn(\n",
      "D:\\Anaconda\\lib\\site-packages\\sklearn\\linear_model\\_logistic.py:1181: UserWarning: Setting penalty=None will ignore the C and l1_ratio parameters\n",
      "  warnings.warn(\n",
      "D:\\Anaconda\\lib\\site-packages\\sklearn\\linear_model\\_logistic.py:1181: UserWarning: Setting penalty=None will ignore the C and l1_ratio parameters\n",
      "  warnings.warn(\n",
      "D:\\Anaconda\\lib\\site-packages\\sklearn\\linear_model\\_logistic.py:1181: UserWarning: Setting penalty=None will ignore the C and l1_ratio parameters\n",
      "  warnings.warn(\n",
      "D:\\Anaconda\\lib\\site-packages\\sklearn\\linear_model\\_logistic.py:1181: UserWarning: Setting penalty=None will ignore the C and l1_ratio parameters\n",
      "  warnings.warn(\n",
      "D:\\Anaconda\\lib\\site-packages\\sklearn\\linear_model\\_logistic.py:1181: UserWarning: Setting penalty=None will ignore the C and l1_ratio parameters\n",
      "  warnings.warn(\n",
      "D:\\Anaconda\\lib\\site-packages\\sklearn\\linear_model\\_logistic.py:1181: UserWarning: Setting penalty=None will ignore the C and l1_ratio parameters\n",
      "  warnings.warn(\n",
      "D:\\Anaconda\\lib\\site-packages\\sklearn\\linear_model\\_logistic.py:1181: UserWarning: Setting penalty=None will ignore the C and l1_ratio parameters\n",
      "  warnings.warn(\n",
      "D:\\Anaconda\\lib\\site-packages\\sklearn\\linear_model\\_logistic.py:1181: UserWarning: Setting penalty=None will ignore the C and l1_ratio parameters\n",
      "  warnings.warn(\n",
      "D:\\Anaconda\\lib\\site-packages\\sklearn\\linear_model\\_logistic.py:1181: UserWarning: Setting penalty=None will ignore the C and l1_ratio parameters\n",
      "  warnings.warn(\n",
      "D:\\Anaconda\\lib\\site-packages\\sklearn\\linear_model\\_logistic.py:1181: UserWarning: Setting penalty=None will ignore the C and l1_ratio parameters\n",
      "  warnings.warn(\n",
      "D:\\Anaconda\\lib\\site-packages\\sklearn\\linear_model\\_logistic.py:1181: UserWarning: Setting penalty=None will ignore the C and l1_ratio parameters\n",
      "  warnings.warn(\n",
      "D:\\Anaconda\\lib\\site-packages\\sklearn\\linear_model\\_logistic.py:1181: UserWarning: Setting penalty=None will ignore the C and l1_ratio parameters\n",
      "  warnings.warn(\n",
      "D:\\Anaconda\\lib\\site-packages\\sklearn\\linear_model\\_logistic.py:1181: UserWarning: Setting penalty=None will ignore the C and l1_ratio parameters\n",
      "  warnings.warn(\n",
      "D:\\Anaconda\\lib\\site-packages\\sklearn\\linear_model\\_logistic.py:1181: UserWarning: Setting penalty=None will ignore the C and l1_ratio parameters\n",
      "  warnings.warn(\n",
      "D:\\Anaconda\\lib\\site-packages\\sklearn\\linear_model\\_logistic.py:1181: UserWarning: Setting penalty=None will ignore the C and l1_ratio parameters\n",
      "  warnings.warn(\n",
      "D:\\Anaconda\\lib\\site-packages\\sklearn\\linear_model\\_logistic.py:1181: UserWarning: Setting penalty=None will ignore the C and l1_ratio parameters\n",
      "  warnings.warn(\n",
      "D:\\Anaconda\\lib\\site-packages\\sklearn\\linear_model\\_logistic.py:1181: UserWarning: Setting penalty=None will ignore the C and l1_ratio parameters\n",
      "  warnings.warn(\n",
      "D:\\Anaconda\\lib\\site-packages\\sklearn\\linear_model\\_logistic.py:1181: UserWarning: Setting penalty=None will ignore the C and l1_ratio parameters\n",
      "  warnings.warn(\n",
      "D:\\Anaconda\\lib\\site-packages\\sklearn\\linear_model\\_logistic.py:1181: UserWarning: Setting penalty=None will ignore the C and l1_ratio parameters\n",
      "  warnings.warn(\n",
      "D:\\Anaconda\\lib\\site-packages\\sklearn\\linear_model\\_logistic.py:1181: UserWarning: Setting penalty=None will ignore the C and l1_ratio parameters\n",
      "  warnings.warn(\n",
      "D:\\Anaconda\\lib\\site-packages\\sklearn\\model_selection\\_validation.py:378: FitFailedWarning: \n",
      "120 fits failed out of a total of 270.\n",
      "The score on these train-test partitions for these parameters will be set to nan.\n",
      "If these failures are not expected, you can try to debug them by setting error_score='raise'.\n",
      "\n",
      "Below are more details about the failures:\n",
      "--------------------------------------------------------------------------------\n",
      "30 fits failed with the following error:\n",
      "Traceback (most recent call last):\n",
      "  File \"D:\\Anaconda\\lib\\site-packages\\sklearn\\model_selection\\_validation.py\", line 686, in _fit_and_score\n",
      "    estimator.fit(X_train, y_train, **fit_params)\n",
      "  File \"D:\\Anaconda\\lib\\site-packages\\sklearn\\linear_model\\_logistic.py\", line 1162, in fit\n",
      "    solver = _check_solver(self.solver, self.penalty, self.dual)\n",
      "  File \"D:\\Anaconda\\lib\\site-packages\\sklearn\\linear_model\\_logistic.py\", line 71, in _check_solver\n",
      "    raise ValueError(\"penalty='none' is not supported for the liblinear solver\")\n",
      "ValueError: penalty='none' is not supported for the liblinear solver\n",
      "\n",
      "--------------------------------------------------------------------------------\n",
      "90 fits failed with the following error:\n",
      "Traceback (most recent call last):\n",
      "  File \"D:\\Anaconda\\lib\\site-packages\\sklearn\\model_selection\\_validation.py\", line 686, in _fit_and_score\n",
      "    estimator.fit(X_train, y_train, **fit_params)\n",
      "  File \"D:\\Anaconda\\lib\\site-packages\\sklearn\\linear_model\\_logistic.py\", line 1160, in fit\n",
      "    self._validate_params()\n",
      "  File \"D:\\Anaconda\\lib\\site-packages\\sklearn\\base.py\", line 570, in _validate_params\n",
      "    validate_parameter_constraints(\n",
      "  File \"D:\\Anaconda\\lib\\site-packages\\sklearn\\utils\\_param_validation.py\", line 97, in validate_parameter_constraints\n",
      "    raise InvalidParameterError(\n",
      "sklearn.utils._param_validation.InvalidParameterError: The 'solver' parameter of LogisticRegression must be a str among {'newton-cholesky', 'liblinear', 'sag', 'newton-cg', 'saga', 'lbfgs'}. Got 'elasticnet' instead.\n",
      "\n",
      "  warnings.warn(some_fits_failed_message, FitFailedWarning)\n",
      "D:\\Anaconda\\lib\\site-packages\\sklearn\\model_selection\\_search.py:953: UserWarning: One or more of the test scores are non-finite: [       nan 0.8446158         nan 0.81171537 0.82169012        nan\n",
      " 0.81247294 0.81483586        nan        nan 0.8446158         nan\n",
      " 0.84339827 0.84348846        nan 0.84166667 0.84203644        nan\n",
      "        nan 0.8446158         nan 0.84473304 0.84462482        nan\n",
      " 0.84487734 0.8449044         nan        nan 0.8446158         nan\n",
      " 0.8446158  0.8446158         nan 0.84465188 0.8446158         nan\n",
      "        nan 0.8446158         nan 0.8446158  0.8446158         nan\n",
      " 0.8446158  0.8446158         nan        nan 0.8446158         nan\n",
      " 0.8446158  0.8446158         nan 0.8446158  0.8446158         nan]\n",
      "  warnings.warn(\n"
     ]
    },
    {
     "name": "stdout",
     "output_type": "stream",
     "text": [
      "{'C': 0.1, 'penalty': 'l2', 'solver': 'saga'}\n",
      "0.8449044011544012\n"
     ]
    }
   ],
   "source": [
    "param_grid = {\n",
    "    'penalty': ['none','l1', 'l2'],\n",
    "    'C': [0.001, 0.01, 0.1, 1, 10, 100],\n",
    "    'solver': ['liblinear', 'saga','elasticnet']\n",
    "}\n",
    "\n",
    "grid_search = GridSearchCV(estimator=logistic, param_grid=param_grid, cv=5)\n",
    "grid_search.fit(xtrain, ytrain)\n",
    "\n",
    "print(grid_search.best_params_)\n",
    "print(grid_search.best_score_)"
   ]
  },
  {
   "cell_type": "code",
   "execution_count": 78,
   "id": "f9c41de9",
   "metadata": {},
   "outputs": [
    {
     "name": "stdout",
     "output_type": "stream",
     "text": [
      "              precision    recall  f1-score   support\n",
      "\n",
      "           0       0.86      0.96      0.91     37761\n",
      "           1       0.70      0.40      0.51      9759\n",
      "\n",
      "    accuracy                           0.84     47520\n",
      "   macro avg       0.78      0.68      0.71     47520\n",
      "weighted avg       0.83      0.84      0.82     47520\n",
      "\n"
     ]
    }
   ],
   "source": [
    "logistic= LogisticRegression(penalty='l2',C= 0.1, solver='saga',random_state=0)\n",
    "logistic.fit(xtrain,ytrain)\n",
    "\n",
    "predict= logistic.predict(xtest)\n",
    "\n",
    "print(classification_report(ytest,predict))"
   ]
  },
  {
   "cell_type": "code",
   "execution_count": 79,
   "id": "3a8e6dad",
   "metadata": {},
   "outputs": [
    {
     "name": "stdout",
     "output_type": "stream",
     "text": [
      "[0.8590368  0.86525974 0.86025433 0.86052489 0.86066017]\n",
      "0.8611471861471862\n",
      "              precision    recall  f1-score   support\n",
      "\n",
      "           0       0.88      0.95      0.91     37761\n",
      "           1       0.72      0.50      0.59      9759\n",
      "\n",
      "    accuracy                           0.86     47520\n",
      "   macro avg       0.80      0.72      0.75     47520\n",
      "weighted avg       0.85      0.86      0.85     47520\n",
      "\n"
     ]
    }
   ],
   "source": [
    "random_forest= RandomForestClassifier(random_state=0)\n",
    "\n",
    "cv_scores= cross_val_score(random_forest,xtrain,ytrain,cv=5)\n",
    "print(cv_scores)\n",
    "print(cv_scores.mean())\n",
    "\n",
    "random_forest.fit(xtrain,ytrain)\n",
    "\n",
    "y_predict= random_forest.predict(xtest)\n",
    "\n",
    "print(classification_report(ytest,y_predict))"
   ]
  },
  {
   "cell_type": "code",
   "execution_count": 80,
   "id": "a33533db",
   "metadata": {},
   "outputs": [
    {
     "name": "stdout",
     "output_type": "stream",
     "text": [
      "{'max_depth': 4}\n",
      "0.8542748917748918\n"
     ]
    }
   ],
   "source": [
    "param_grid= {'max_depth': range(1,5)}\n",
    "\n",
    "grid_search = GridSearchCV(random_forest,param_grid, cv=5,scoring='accuracy')\n",
    "grid_search.fit(xtrain,ytrain)\n",
    "    \n",
    "print(grid_search.best_params_)\n",
    "print(grid_search.best_score_)"
   ]
  },
  {
   "cell_type": "code",
   "execution_count": 81,
   "id": "4ccdac39",
   "metadata": {},
   "outputs": [
    {
     "name": "stdout",
     "output_type": "stream",
     "text": [
      "              precision    recall  f1-score   support\n",
      "\n",
      "           0       0.86      0.97      0.91     37761\n",
      "           1       0.76      0.40      0.52      9759\n",
      "\n",
      "    accuracy                           0.85     47520\n",
      "   macro avg       0.81      0.68      0.72     47520\n",
      "weighted avg       0.84      0.85      0.83     47520\n",
      "\n"
     ]
    }
   ],
   "source": [
    "random_forest= RandomForestClassifier(max_depth=4, random_state=0)\n",
    "random_forest.fit(xtrain,ytrain)\n",
    "\n",
    "y_predict= random_forest.predict(xtest)\n",
    "\n",
    "print(classification_report(ytest,y_predict))"
   ]
  },
  {
   "cell_type": "code",
   "execution_count": 82,
   "id": "c608ba00",
   "metadata": {},
   "outputs": [
    {
     "name": "stdout",
     "output_type": "stream",
     "text": [
      "[0.85822511 0.86737915 0.86093074 0.86268939 0.86309524]\n",
      "0.862463924963925\n",
      "              precision    recall  f1-score   support\n",
      "\n",
      "           0       0.88      0.95      0.91     37761\n",
      "           1       0.73      0.50      0.60      9759\n",
      "\n",
      "    accuracy                           0.86     47520\n",
      "   macro avg       0.80      0.73      0.76     47520\n",
      "weighted avg       0.85      0.86      0.85     47520\n",
      "\n"
     ]
    }
   ],
   "source": [
    "xgb= GradientBoostingClassifier(random_state=0)\n",
    "\n",
    "cv_scores= cross_val_score(xgb,xtrain,ytrain,cv=5)\n",
    "print(cv_scores)\n",
    "print(cv_scores.mean())\n",
    "\n",
    "xgb.fit(xtrain,ytrain)\n",
    "\n",
    "y_pred= xgb.predict(xtest)\n",
    "\n",
    "print(classification_report(ytest,y_pred))"
   ]
  },
  {
   "cell_type": "code",
   "execution_count": 83,
   "id": "b92a172b",
   "metadata": {},
   "outputs": [
    {
     "name": "stdout",
     "output_type": "stream",
     "text": [
      "{'learning_rate': 0.09, 'max_depth': 3}\n"
     ]
    }
   ],
   "source": [
    "param_grid = {\n",
    "    'max_depth': range(1,4),\n",
    "    'learning_rate': [0.01,0.02,0.03,0.04,0.05,0.06,0.07,0.08,0.09,0.1]\n",
    "}\n",
    "\n",
    "grid_search = GridSearchCV(xgb, param_grid, cv=5, scoring='accuracy')\n",
    "grid_search.fit(xtrain, ytrain)\n",
    "print(grid_search.best_params_)"
   ]
  },
  {
   "cell_type": "code",
   "execution_count": 84,
   "id": "3a397e1c",
   "metadata": {},
   "outputs": [
    {
     "name": "stdout",
     "output_type": "stream",
     "text": [
      "              precision    recall  f1-score   support\n",
      "\n",
      "           0       0.88      0.95      0.91     37761\n",
      "           1       0.73      0.50      0.60      9759\n",
      "\n",
      "    accuracy                           0.86     47520\n",
      "   macro avg       0.80      0.73      0.76     47520\n",
      "weighted avg       0.85      0.86      0.85     47520\n",
      "\n"
     ]
    }
   ],
   "source": [
    "xgb= GradientBoostingClassifier(random_state=0, learning_rate=0.09, max_depth=3)\n",
    "xgb.fit(xtrain,ytrain)\n",
    "\n",
    "y_pred= xgb.predict(xtest)\n",
    "\n",
    "print(classification_report(ytest,y_pred))"
   ]
  },
  {
   "cell_type": "code",
   "execution_count": 85,
   "id": "2bbda1cf",
   "metadata": {},
   "outputs": [
    {
     "name": "stdout",
     "output_type": "stream",
     "text": [
      "[0.85912698 0.86426768 0.85930736 0.85989358 0.86007395]\n",
      "0.8605339105339105\n",
      "              precision    recall  f1-score   support\n",
      "\n",
      "           0       0.88      0.95      0.91     37761\n",
      "           1       0.73      0.49      0.59      9759\n",
      "\n",
      "    accuracy                           0.86     47520\n",
      "   macro avg       0.80      0.72      0.75     47520\n",
      "weighted avg       0.85      0.86      0.85     47520\n",
      "\n"
     ]
    }
   ],
   "source": [
    "dct= DecisionTreeClassifier(random_state=0)\n",
    "\n",
    "cv_scores= cross_val_score(dct,xtrain,ytrain,cv=5)\n",
    "print(cv_scores)\n",
    "print(cv_scores.mean())\n",
    "\n",
    "dct.fit(xtrain,ytrain)\n",
    "\n",
    "y_pred= dct.predict(xtest)\n",
    "\n",
    "print(classification_report(ytest,y_pred))"
   ]
  },
  {
   "cell_type": "code",
   "execution_count": 86,
   "id": "fb4f974e",
   "metadata": {},
   "outputs": [
    {
     "name": "stdout",
     "output_type": "stream",
     "text": [
      "{'criterion': 'gini', 'max_depth': 3}\n"
     ]
    }
   ],
   "source": [
    "param_grid = {\n",
    "    'max_depth': range(1,4),\n",
    "    'criterion': [\"gini\", \"entropy\", \"log_loss\"]\n",
    "}\n",
    "\n",
    "grid_search = GridSearchCV(dct, param_grid, cv=5, scoring='accuracy')\n",
    "grid_search.fit(xtrain, ytrain)\n",
    "print(grid_search.best_params_)"
   ]
  },
  {
   "cell_type": "code",
   "execution_count": 87,
   "id": "87be619e",
   "metadata": {},
   "outputs": [
    {
     "name": "stdout",
     "output_type": "stream",
     "text": [
      "              precision    recall  f1-score   support\n",
      "\n",
      "           0       0.86      0.97      0.91     37761\n",
      "           1       0.78      0.39      0.52      9759\n",
      "\n",
      "    accuracy                           0.85     47520\n",
      "   macro avg       0.82      0.68      0.72     47520\n",
      "weighted avg       0.84      0.85      0.83     47520\n",
      "\n"
     ]
    }
   ],
   "source": [
    "dct= DecisionTreeClassifier(random_state=0,max_depth=3,criterion= 'gini')\n",
    "dct.fit(xtrain,ytrain)\n",
    "\n",
    "y_pred= dct.predict(xtest)\n",
    "\n",
    "print(classification_report(ytest,y_pred))"
   ]
  },
  {
   "cell_type": "code",
   "execution_count": 88,
   "id": "75b3bf25",
   "metadata": {},
   "outputs": [
    {
     "name": "stdout",
     "output_type": "stream",
     "text": [
      "[0.85944264 0.86544012 0.86084055 0.86237374 0.86246392]\n",
      "0.8621121933621932\n",
      "              precision    recall  f1-score   support\n",
      "\n",
      "           0       0.88      0.95      0.91     37761\n",
      "           1       0.73      0.49      0.59      9759\n",
      "\n",
      "    accuracy                           0.86     47520\n",
      "   macro avg       0.81      0.72      0.75     47520\n",
      "weighted avg       0.85      0.86      0.85     47520\n",
      "\n"
     ]
    }
   ],
   "source": [
    "abc= AdaBoostClassifier(random_state=0)\n",
    "\n",
    "cv_scores= cross_val_score(abc,xtrain,ytrain,cv=5)\n",
    "print(cv_scores)\n",
    "print(cv_scores.mean())\n",
    "\n",
    "abc.fit(xtrain,ytrain)\n",
    "\n",
    "y_pred= abc.predict(xtest)\n",
    "\n",
    "print(classification_report(ytest,y_pred))"
   ]
  },
  {
   "cell_type": "code",
   "execution_count": 89,
   "id": "882ec64d",
   "metadata": {},
   "outputs": [
    {
     "name": "stdout",
     "output_type": "stream",
     "text": [
      "{'learning_rate': 0.1}\n"
     ]
    }
   ],
   "source": [
    "param_grid = {\n",
    "    'learning_rate': [0.01,0.02,0.03,0.04,0.05,0.06,0.07,0.08,0.09,0.1]\n",
    "}\n",
    "\n",
    "grid_search = GridSearchCV(abc, param_grid, cv=5, scoring='accuracy')\n",
    "grid_search.fit(xtrain, ytrain)\n",
    "print(grid_search.best_params_)"
   ]
  },
  {
   "cell_type": "code",
   "execution_count": 90,
   "id": "0aae3644",
   "metadata": {},
   "outputs": [
    {
     "name": "stdout",
     "output_type": "stream",
     "text": [
      "              precision    recall  f1-score   support\n",
      "\n",
      "           0       0.85      0.98      0.91     37761\n",
      "           1       0.79      0.36      0.49      9759\n",
      "\n",
      "    accuracy                           0.85     47520\n",
      "   macro avg       0.82      0.67      0.70     47520\n",
      "weighted avg       0.84      0.85      0.83     47520\n",
      "\n"
     ]
    }
   ],
   "source": [
    "abc= AdaBoostClassifier(random_state=0, learning_rate=0.1)\n",
    "abc.fit(xtrain,ytrain)\n",
    "\n",
    "y_pred= abc.predict(xtest)\n",
    "\n",
    "print(classification_report(ytest,y_pred))"
   ]
  },
  {
   "cell_type": "code",
   "execution_count": null,
   "id": "4f1e2a6f",
   "metadata": {},
   "outputs": [],
   "source": []
  }
 ],
 "metadata": {
  "kernelspec": {
   "display_name": "Python 3 (ipykernel)",
   "language": "python",
   "name": "python3"
  },
  "language_info": {
   "codemirror_mode": {
    "name": "ipython",
    "version": 3
   },
   "file_extension": ".py",
   "mimetype": "text/x-python",
   "name": "python",
   "nbconvert_exporter": "python",
   "pygments_lexer": "ipython3",
   "version": "3.9.7"
  }
 },
 "nbformat": 4,
 "nbformat_minor": 5
}
